{
 "cells": [
  {
   "cell_type": "code",
   "execution_count": null,
   "metadata": {},
   "outputs": [],
   "source": [
    "# 많은 수의 데이터를 표현 방법 -> 리스트\n",
    "\n",
    "x = [1, 2, 3, 4, 5, 6, 7, 8, 9, 10]\n",
    "# print(x[1], x[2], x[3])\n",
    "# print(x[1:4])\n",
    "\n",
    "print(x[4:7])\n",
    "print(x[2:9:3])\n",
    "print(x[ : : ])"
   ]
  },
  {
   "cell_type": "markdown",
   "metadata": {},
   "source": [
    "리스트의 데이터를 처리하는 반복문 표현 두 가지"
   ]
  },
  {
   "cell_type": "code",
   "execution_count": null,
   "metadata": {},
   "outputs": [],
   "source": [
    "# range() 함수를 이용\n",
    "temp = [31, 30, 28, 28, 29, 30, 30]\n",
    "\n",
    "for i in range(len(temp)):\n",
    "    print(\"최고온도 = \", temp[i])\n",
    "    \n",
    "# 리스트 명을 바로 가져와서 이용\n",
    "temp = [31, 30, 28, 28, 29, 30, 30]\n",
    "\n",
    "for j in temp :\n",
    "    print(j)"
   ]
  },
  {
   "cell_type": "markdown",
   "metadata": {},
   "source": [
    "리스트의 데이터가 존재하는 지 판별하는 코드"
   ]
  },
  {
   "cell_type": "code",
   "execution_count": null,
   "metadata": {},
   "outputs": [],
   "source": [
    "# temp라는 리스트 안에 데이터 중에 \"27\"이라는 데이터가 있는지 판별\n",
    "temp = [31, 30, 28, 28, 29, 30, 30]\n",
    "\n",
    "if 27 in temp :\n",
    "    print(\"있습니다.\")\n",
    "else :\n",
    "    print(\"없습니다.\")"
   ]
  },
  {
   "cell_type": "markdown",
   "metadata": {},
   "source": [
    "리스트에 특정값 추가"
   ]
  },
  {
   "cell_type": "code",
   "execution_count": null,
   "metadata": {},
   "outputs": [],
   "source": [
    "MyList = [\"Seoul\", \"Daegu\", \"Daejeon\"]\n",
    "\n",
    "x = input(\"City Input : \")\n",
    " \n",
    "MyList.insert(1, x) # 지저한 위치에 데이터값을 추가\n",
    "# MyList.append(x) # 리스트에 맨 뒤값 추가\n",
    " \n",
    "print(MyList)"
   ]
  },
  {
   "cell_type": "markdown",
   "metadata": {},
   "source": [
    "리스트 내에 위치한 데이터의 인덱스(위치) 표시"
   ]
  },
  {
   "cell_type": "code",
   "execution_count": null,
   "metadata": {},
   "outputs": [],
   "source": [
    "MyList = [\"Seoul\", \"Daegu\", \"Daejeon\"]\n",
    "print(MyList.index(\"Daejeon\")) # 인덱스 찾는 함수"
   ]
  },
  {
   "cell_type": "markdown",
   "metadata": {},
   "source": [
    "리스트에서 데이터 삭제"
   ]
  },
  {
   "cell_type": "code",
   "execution_count": 27,
   "metadata": {},
   "outputs": [
    {
     "name": "stdout",
     "output_type": "stream",
     "text": [
      "['Seoul', 'Daejeon']\n"
     ]
    }
   ],
   "source": [
    "MyList = [\"Seoul\", \"Daegu\", \"Daejeon\"]\n",
    "\n",
    "# MyList.pop(1) # 인덱스(위치) 값을 이용한 데이터 삭제\n",
    "MyList.remove(\"Daegu\") # 특정값을 이용한 데인터 삭제\n",
    "\n",
    "print(MyList)"
   ]
  },
  {
   "cell_type": "markdown",
   "metadata": {},
   "source": [
    "주사위 시뮬레이션"
   ]
  },
  {
   "cell_type": "code",
   "execution_count": null,
   "metadata": {},
   "outputs": [],
   "source": [
    "pip install matplotlib"
   ]
  },
  {
   "cell_type": "code",
   "execution_count": 27,
   "metadata": {},
   "outputs": [
    {
     "name": "stdout",
     "output_type": "stream",
     "text": [
      "[88, 103, 85, 103, 122, 99]\n"
     ]
    },
    {
     "data": {
      "image/png": "[encoded data removed]",
      "text/plain": [
       "<Figure size 640x480 with 1 Axes>"
      ]
     },
     "metadata": {},
     "output_type": "display_data"
    }
   ],
   "source": [
    "import matplotlib.pyplot as plt\n",
    "import random\n",
    "\n",
    "values = [random.randint(0, 5) for i in range(600)]\n",
    "\n",
    "faces = [1, 2, 3, 4, 5, 6]\n",
    "rolls = [0, 0, 0, 0, 0, 0]\n",
    "\n",
    "for x in values :\n",
    "    rolls[x] = rolls[x] + 1\n",
    "    \n",
    "print(rolls)\n",
    "    \n",
    "plt.bar(faces, rolls)\n",
    "plt.show()"
   ]
  },
  {
   "cell_type": "code",
   "execution_count": 33,
   "metadata": {},
   "outputs": [
    {
     "name": "stdout",
     "output_type": "stream",
     "text": [
      "5\n",
      "1 2 3 4 5 6 7 8 9 \n",
      "[[2, 4, 6], [8, 10, 12], [14, 16, 18]]\n"
     ]
    }
   ],
   "source": [
    "x = [\n",
    "    [1, 2, 3],\n",
    "    [4, 5, 6],\n",
    "    [7, 8, 9]    \n",
    "]\n",
    "print(x[1][1])\n",
    "\n",
    "for i in range(3) :\n",
    "    for j in range(3) :\n",
    "        print(x[i][j], end=\" \")\n",
    "        x[i][j] += x[i][j]\n",
    "\n",
    "print()\n",
    "print(x)"
   ]
  },
  {
   "cell_type": "code",
   "execution_count": 52,
   "metadata": {},
   "outputs": [
    {
     "name": "stdout",
     "output_type": "stream",
     "text": [
      "[1, -2, 3, -4, 5, -6, 7, -8, 9, -10]\n"
     ]
    }
   ],
   "source": [
    "values = [-i if i % 2 == 0 else i for i in range(1, 11)]\n",
    "\n",
    "print(values)"
   ]
  },
  {
   "cell_type": "code",
   "execution_count": 44,
   "metadata": {},
   "outputs": [
    {
     "name": "stdout",
     "output_type": "stream",
     "text": [
      "[-2, -4, -6, -8, -10]\n"
     ]
    }
   ],
   "source": [
    "values = [ -i for i in range(1, 11) if i % 2 == 0]\n",
    "\n",
    "print(values)"
   ]
  },
  {
   "cell_type": "markdown",
   "metadata": {},
   "source": [
    "Programming(261 Page)"
   ]
  },
  {
   "cell_type": "code",
   "execution_count": 58,
   "metadata": {},
   "outputs": [
    {
     "name": "stdout",
     "output_type": "stream",
     "text": [
      "24\n"
     ]
    }
   ],
   "source": [
    "#1\n",
    "s = 1\n",
    "x= [1, 2, 3, 4]\n",
    "\n",
    "for i in x :\n",
    "    s *= i\n",
    "print(s)"
   ]
  },
  {
   "cell_type": "code",
   "execution_count": 59,
   "metadata": {},
   "outputs": [
    {
     "name": "stdout",
     "output_type": "stream",
     "text": [
      "[10, 20, 30, 50, 60]\n"
     ]
    }
   ],
   "source": [
    "#2\n",
    "x = [10, 20, 30, 20, 10, 50, 60]\n",
    "y = [ ]\n",
    "\n",
    "for i in x :\n",
    "    if i not in y :\n",
    "        y.append(i)\n",
    "print(y)"
   ]
  },
  {
   "cell_type": "code",
   "execution_count": 73,
   "metadata": {},
   "outputs": [
    {
     "name": "stdout",
     "output_type": "stream",
     "text": [
      "0 5\n",
      "1 10\n",
      "2 15\n",
      "3 20\n",
      "4 25\n",
      "[5, 100, 15, 20, 25]\n"
     ]
    }
   ],
   "source": [
    "#3\n",
    "x = [5, 10, 15, 20, 25]\n",
    "\n",
    "for i, item in enumerate(x):\n",
    "    print(i, item)\n",
    "    if item == 10:\n",
    "        x[i] = 100\n",
    "print(x)\n"
   ]
  },
  {
   "cell_type": "code",
   "execution_count": 72,
   "metadata": {},
   "outputs": [
    {
     "name": "stdout",
     "output_type": "stream",
     "text": [
      "[5, 100, 15, 10, 25]\n"
     ]
    }
   ],
   "source": [
    "#3\n",
    "x = [5, 10, 15, 10, 25]\n",
    "\n",
    "for i in range(5) :\n",
    "    if (x[i] == 10) :\n",
    "        x[i] = 100\n",
    "        break\n",
    "        \n",
    "print(x)"
   ]
  },
  {
   "cell_type": "code",
   "execution_count": 81,
   "metadata": {},
   "outputs": [
    {
     "name": "stdout",
     "output_type": "stream",
     "text": [
      "[5, 15, 20, 25]\n"
     ]
    }
   ],
   "source": [
    "x = [5, 10, 15, 20, 25]\n",
    "x.remove(10)\n",
    "\n",
    "print(x)"
   ]
  },
  {
   "cell_type": "code",
   "execution_count": 84,
   "metadata": {},
   "outputs": [
    {
     "name": "stdout",
     "output_type": "stream",
     "text": [
      "aba\n",
      "121\n",
      "2\n"
     ]
    }
   ],
   "source": [
    "x = ['aba', 'xyz', 'abc', '121']\n",
    "cnt = 0\n",
    "for i in x :\n",
    "    if (i[0] == i[2]) :\n",
    "        cnt = cnt + 1\n",
    "        print(i)\n",
    "        \n",
    "print(cnt)"
   ]
  },
  {
   "cell_type": "code",
   "execution_count": 86,
   "metadata": {},
   "outputs": [
    {
     "name": "stdout",
     "output_type": "stream",
     "text": [
      "[1, 3, 4, 5]\n"
     ]
    }
   ],
   "source": [
    "a = [1, 2, 3, 4, 5]\n",
    "b = [1, 3, 3, 4, 5, 6, 7]\n",
    "\n",
    "x = [i for i in a if i in b]\n",
    "\n",
    "print(x)   "
   ]
  }
 ],
 "metadata": {
  "kernelspec": {
   "display_name": "Python 3",
   "language": "python",
   "name": "python3"
  },
  "language_info": {
   "codemirror_mode": {
    "name": "ipython",
    "version": 3
   },
   "file_extension": ".py",
   "mimetype": "text/x-python",
   "name": "python",
   "nbconvert_exporter": "python",
   "pygments_lexer": "ipython3",
   "version": "3.11.5"
  },
  "orig_nbformat": 4
 },
 "nbformat": 4,
 "nbformat_minor": 2
}
