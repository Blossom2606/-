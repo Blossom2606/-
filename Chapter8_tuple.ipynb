{
 "cells": [
  {
   "cell_type": "markdown",
   "metadata": {},
   "source": [
    "### 튜플(tuple), 세트(set), 딕셔너리(dictionary)에 관하여 진도를 나감. - 다양한 데이터 표현"
   ]
  },
  {
   "cell_type": "code",
   "execution_count": 1,
   "metadata": {},
   "outputs": [
    {
     "name": "stdout",
     "output_type": "stream",
     "text": [
      "[1, 7, 3]\n"
     ]
    }
   ],
   "source": [
    "x = [1, 2, 3] #리스트\n",
    "x[1] = 7\n",
    "print(x)"
   ]
  },
  {
   "cell_type": "markdown",
   "metadata": {},
   "source": [
    "##### 튜플(tuple)은 선언을 대괄호[ ]가 아닌 소괄호( )로 선언하면 된다. + x = (4)는 튜플로 인식하지 않고 수식으로 인식을 한다. 튜플로 인식을 하기 위해서는 x = (4, )처럼 쉼표가 끝에 있어야 한다.\n",
    "##### 튜플의 특징으로는 튜플의 값을 변경할 수 없다. 즉 데이터나 값의 변경을 할 수 없게(수정 금지) 하는 것이 가장 큰 특징이다.\n",
    "###### 아래 코드는 튜플로 선언을 했는데 내부 값을 변경을 시도하는 코드로써 당연히 결과는 에러가 뜬다."
   ]
  },
  {
   "cell_type": "code",
   "execution_count": 2,
   "metadata": {},
   "outputs": [
    {
     "ename": "TypeError",
     "evalue": "'tuple' object does not support item assignment",
     "output_type": "error",
     "traceback": [
      "\u001b[1;31m---------------------------------------------------------------------------\u001b[0m",
      "\u001b[1;31mTypeError\u001b[0m                                 Traceback (most recent call last)",
      "Cell \u001b[1;32mIn[2], line 2\u001b[0m\n\u001b[0;32m      1\u001b[0m x \u001b[39m=\u001b[39m (\u001b[39m1\u001b[39m, \u001b[39m2\u001b[39m, \u001b[39m3\u001b[39m)\n\u001b[1;32m----> 2\u001b[0m x[\u001b[39m1\u001b[39;49m] \u001b[39m=\u001b[39m \u001b[39m7\u001b[39m\n\u001b[0;32m      3\u001b[0m \u001b[39mprint\u001b[39m(x)\n",
      "\u001b[1;31mTypeError\u001b[0m: 'tuple' object does not support item assignment"
     ]
    }
   ],
   "source": [
    "x = (1, 2, 3) #튜플(tuple)\n",
    "x[1] = 7\n",
    "print(x)"
   ]
  },
  {
   "cell_type": "markdown",
   "metadata": {},
   "source": [
    "#### 아래 코드는 튜플을 리스트로 변경(생성)하는 함수와 리스트를 튜플로 변경(생성)하는 함수의 사용 예 이다. 윗코드는 튜플로 선언했지만 리스트로 변경하는 함수를 사용하였기 때문에 값이 변경됬지만 아래 코드는 리스트로 선언되었어도 최종적으로는 튜플로 변경되었기 때문에 값을 변경할 수 없어 에러가 뜬다."
   ]
  },
  {
   "cell_type": "code",
   "execution_count": null,
   "metadata": {},
   "outputs": [],
   "source": [
    "x = (4, 5, 6)\n",
    "x = list(x) #list()는 리스트를 생성하는 함수\n",
    "x[1] = 7\n",
    "print(x)\n",
    "\n",
    "x = [4, 5, 6]\n",
    "x = tuple(x) #tuple()는 튜플을 생성하는 함수\n",
    "x[1] = 7\n",
    "print(x)"
   ]
  },
  {
   "cell_type": "markdown",
   "metadata": {},
   "source": [
    "##### 아래 코드는 튜플끼리 +, +=의 연산자를 통해 합치는 코드이다. 결과로는 (1, 2, 3, 5, 6)으로 2개의 튜플이 합쳐진 것을 알 수 있다."
   ]
  },
  {
   "cell_type": "code",
   "execution_count": 5,
   "metadata": {},
   "outputs": [
    {
     "name": "stdout",
     "output_type": "stream",
     "text": [
      "(1, 2, 3, 5, 6)\n"
     ]
    }
   ],
   "source": [
    "x = (1, 2, 3)   #튜플끼리 데이터 병합은 가능하다.\n",
    "y = (5, 6)\n",
    "i = x + y\n",
    "print(i)"
   ]
  },
  {
   "cell_type": "markdown",
   "metadata": {},
   "source": [
    "##### 튜플의 또 다른 특징으로 언패킹이 있다. 튜플 x의 데이터를 변수 a, b, c에 개별로 저장이 가능한 기능이다. 아래코드느 예제코드"
   ]
  },
  {
   "cell_type": "code",
   "execution_count": null,
   "metadata": {},
   "outputs": [],
   "source": [
    "x = (1, 2, 3)\n",
    "a, b, c = x     #(언패킹) x의 데이터를 -> a,b,c에 개별로 저장 하는것이 가능하다.\n",
    "print(a,b,c)"
   ]
  },
  {
   "cell_type": "code",
   "execution_count": 13,
   "metadata": {},
   "outputs": [
    {
     "name": "stdout",
     "output_type": "stream",
     "text": [
      "허진영\n",
      "2305008\n"
     ]
    }
   ],
   "source": [
    "x = (\"허진영\", 2305008)\n",
    "a, b = x\n",
    "print(a)\n",
    "print(b)"
   ]
  },
  {
   "cell_type": "markdown",
   "metadata": {},
   "source": [
    "##### 패킹과 언패킹을 활용하여 데이터 값의 순서를 변경하는 예제 코드이다."
   ]
  },
  {
   "cell_type": "code",
   "execution_count": 12,
   "metadata": {},
   "outputs": [
    {
     "name": "stdout",
     "output_type": "stream",
     "text": [
      "2 1\n"
     ]
    }
   ],
   "source": [
    "x = (1, 2)      #패킹과 언패킹을 활용하여 데이터 값의 순서를 변경할 수 있다.\n",
    "a, b = x        #a와 b라는 변수에 튜플x의 값을 각각 저장한다.\n",
    "b, a = (a, b)   #b와 a 변수에 튜플 x의 값이 저장된 a, b의 데이터 값을 저장한다.\n",
    "print(a, b)"
   ]
  },
  {
   "cell_type": "markdown",
   "metadata": {},
   "source": [
    "##### enumerate() 함수 사용예제"
   ]
  },
  {
   "cell_type": "code",
   "execution_count": 15,
   "metadata": {},
   "outputs": [
    {
     "name": "stdout",
     "output_type": "stream",
     "text": [
      "['수박', '복숭아', '포도']\n",
      "0 수박\n",
      "1 복숭아\n",
      "2 포도\n"
     ]
    }
   ],
   "source": [
    "x = [\"수박\", \"복숭아\", \"포도\"]      #enumerate 함수의 사용 예제 해당 함수는 데이터 값 뿐만 아니라 index 값도 같이 찍어준다.\n",
    "print(x)\n",
    "\n",
    "for a, b in enumerate(x) :         #a(index), b(데이터 값)\n",
    "    print(a, b)"
   ]
  },
  {
   "cell_type": "markdown",
   "metadata": {},
   "source": [
    "3주차 시작 p257. 세트(set)\n",
    "set 선언\n",
    "변수명 = set()"
   ]
  },
  {
   "cell_type": "code",
   "execution_count": null,
   "metadata": {},
   "outputs": [],
   "source": []
  }
 ],
 "metadata": {
  "kernelspec": {
   "display_name": "Python 3",
   "language": "python",
   "name": "python3"
  },
  "language_info": {
   "codemirror_mode": {
    "name": "ipython",
    "version": 3
   },
   "file_extension": ".py",
   "mimetype": "text/x-python",
   "name": "python",
   "nbconvert_exporter": "python",
   "pygments_lexer": "ipython3",
   "version": "3.11.5"
  },
  "orig_nbformat": 4
 },
 "nbformat": 4,
 "nbformat_minor": 2
}
