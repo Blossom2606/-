{
 "cells": [
  {
   "cell_type": "markdown",
   "metadata": {},
   "source": [
    "#### 9. 문자열과 정규식"
   ]
  },
  {
   "cell_type": "markdown",
   "metadata": {},
   "source": [
    "p. 303 문자열"
   ]
  },
  {
   "cell_type": "code",
   "execution_count": null,
   "metadata": {},
   "outputs": [],
   "source": [
    "s1 = 'Hello'   # 단일 인용부호(single quotation)\n",
    "s2 = \"Hello\"   # 이중 인용부호(double quotation)\n",
    "\n",
    "s3 = \"This is Kim's dog.\"\t\t# 문자열 안에 인용 기호가 있는 경우\n",
    "print(s3)\n",
    "\n",
    "s = 'This is Kim\\'s dog.'\t\t# 같은 인용부호를 쓰면 이스케이프 문자로 구분\n",
    "print(s)"
   ]
  },
  {
   "cell_type": "markdown",
   "metadata": {},
   "source": [
    "p.304 원시 문자열"
   ]
  },
  {
   "cell_type": "code",
   "execution_count": null,
   "metadata": {},
   "outputs": [],
   "source": [
    "print(r'This is Kim\\'s dog')   # r을 두면 원시 문자열(raw string)으로 인식"
   ]
  },
  {
   "cell_type": "markdown",
   "metadata": {},
   "source": [
    "p.304 인덱싱"
   ]
  },
  {
   "cell_type": "code",
   "execution_count": null,
   "metadata": {},
   "outputs": [],
   "source": [
    "s = 'Monty Python'\n",
    "print(s[0])\n",
    "print(s[-1])"
   ]
  },
  {
   "cell_type": "markdown",
   "metadata": {},
   "source": [
    "p.305 슬라이싱"
   ]
  },
  {
   "cell_type": "code",
   "execution_count": null,
   "metadata": {},
   "outputs": [],
   "source": [
    "# 1\n",
    "s = 'Monty Python'\n",
    "\n",
    "print(s[6:10])\n",
    "\n",
    "t = s[:-1]    # 생략되면 문자열의 처음부터\n",
    "print(t)\n",
    "\n",
    "t = s[-2:]    # 생략되면 문자열의 끝까지\n",
    "print(t)\n",
    "\n",
    "print(s[:2])   \n",
    "print(s[4:])   \n",
    "\n",
    "print(s[:2] + s[2:])    # s와 같다.\n",
    "print(s[:4] + s[4:])\n",
    "\n",
    "print(s[:])    # 문자열 전체\n",
    "\n",
    "# 2\n",
    "message='see you at noon'    # 5번째 문자를 기준으로 둘로 나눈다.\n",
    "low = message[:5]\n",
    "high = message[5:]\n",
    "print(low, high)\n",
    "\n",
    "# 3\n",
    "reg= '980326'   # 주민등록 앞자리에서 출생년도와 생일 추출\n",
    "print(reg[0:2]+'년')\n",
    "print(reg[2:4]+'월')\n",
    "print(reg[4:6]+'일')\n",
    "\n",
    "# 4\n",
    "word = 'abcdef'\n",
    "# word[0] = 'A'    # 문자열의 일부를 바꾸면 오류 발생\n",
    "\n",
    "word = 'abcdef'   # 다음처럼 하면 문제없이 해결\n",
    "word = 'A' + word[1:]\n",
    "print(word)"
   ]
  },
  {
   "cell_type": "markdown",
   "metadata": {},
   "source": [
    "p.308 in과 not in 연산자"
   ]
  },
  {
   "cell_type": "code",
   "execution_count": null,
   "metadata": {},
   "outputs": [],
   "source": [
    "print('Hello' in 'Hello World')\n",
    "\n",
    "print('WORLD' in 'Hello world')\n",
    "\n",
    "print('WORLD' not in 'Hello world')"
   ]
  },
  {
   "cell_type": "markdown",
   "metadata": {},
   "source": [
    "p.308 문자열 안에 문자열 넣기"
   ]
  },
  {
   "cell_type": "code",
   "execution_count": null,
   "metadata": {},
   "outputs": [],
   "source": [
    "# + 연산자 사용\n",
    "name = 'Kim'\n",
    "age = 21\n",
    "r = '제 이름은 ' + name + '입니다. 저는 ' + str(age) + '살입니다.'\n",
    "print(r)"
   ]
  },
  {
   "cell_type": "code",
   "execution_count": null,
   "metadata": {},
   "outputs": [],
   "source": [
    "# %s 기호 사용\n",
    "name = 'Kim'\n",
    "age = 21\n",
    "r = '제 이름은 %s입니다. 저는 %s살입니다.' % (name, age)\n",
    "print(r)"
   ]
  },
  {
   "cell_type": "code",
   "execution_count": null,
   "metadata": {},
   "outputs": [],
   "source": [
    "# f-문자열 사용\n",
    "name = 'Kim'\n",
    "age = 21\n",
    "r = f'제 이름은 {name}입니다. 저는 {age}살입니다.'\n",
    "print(r)"
   ]
  },
  {
   "cell_type": "markdown",
   "metadata": {},
   "source": [
    "p.309 문자열 비교하기"
   ]
  },
  {
   "cell_type": "code",
   "execution_count": null,
   "metadata": {},
   "outputs": [],
   "source": [
    "print('apple' < 'banana')   # 사전순 비교"
   ]
  },
  {
   "cell_type": "code",
   "execution_count": null,
   "metadata": {},
   "outputs": [],
   "source": [
    "a = input('문자열을 입력하시오: ')\n",
    "b = input('문자열을 입력하시오: ')\n",
    "if( a < b ):\n",
    "\tprint(a, '가 앞에 있음')\n",
    "else:\n",
    "\tprint(b, '가 앞에 있음')"
   ]
  },
  {
   "cell_type": "markdown",
   "metadata": {},
   "source": [
    "p.309 회문 찾기"
   ]
  },
  {
   "cell_type": "code",
   "execution_count": 35,
   "metadata": {},
   "outputs": [
    {
     "name": "stdout",
     "output_type": "stream",
     "text": [
      "1331\n",
      "회문입니다.\n"
     ]
    }
   ],
   "source": [
    "s = input('문자열을 입력하시오: ')\n",
    "s1 = s[ : :-1]\t\t\t# 문자열을 거꾸로 만든다. \n",
    "print(s1)\n",
    "if( s == s1 ):\n",
    "        print('회문입니다.')\n",
    "else:\n",
    "        print('회문이 아닙니다.')"
   ]
  },
  {
   "cell_type": "markdown",
   "metadata": {},
   "source": [
    "p.311 대소문자 변환하기"
   ]
  },
  {
   "cell_type": "code",
   "execution_count": null,
   "metadata": {},
   "outputs": [],
   "source": [
    "s = 'Breakfast At Tiffany'\n",
    "print(s.upper())\n",
    "print(s.lower())"
   ]
  },
  {
   "cell_type": "markdown",
   "metadata": {},
   "source": [
    "p.311 lower() 사용 예제"
   ]
  },
  {
   "cell_type": "code",
   "execution_count": null,
   "metadata": {},
   "outputs": [],
   "source": [
    "print('게임을 계속하시겠어요?')\n",
    "response = input()\n",
    "if response.lower() == 'yes':\n",
    "\tprint('게임을 계속합니다.')\n",
    "else:\n",
    "\tprint('다음에 또 뵈요.')"
   ]
  },
  {
   "cell_type": "markdown",
   "metadata": {},
   "source": [
    "p.312 문자열 검사 메소드"
   ]
  },
  {
   "cell_type": "code",
   "execution_count": null,
   "metadata": {},
   "outputs": [],
   "source": [
    "print('HELLO'.isupper())   \t#대문자 검사\n",
    "\n",
    "print('hello'.islower())\t#소문자 검사\n",
    "\n",
    "print('abc'.isalpha())\t\t#영문자 검사\n",
    "\n",
    "print('abc123'.isalpha())\t\n",
    "\n",
    "print('abc123'.isalnum())\t#영문자와 숫자 검사\n",
    "\n",
    "print('123'.isdecimal())\t#숫자 검사\n",
    "\n",
    "print(' \\n'.isspace())\t\t#공백, 탭, 줄바꿈 문자 검사"
   ]
  },
  {
   "cell_type": "markdown",
   "metadata": {},
   "source": [
    "p.312 입력의 유효성 검사하기"
   ]
  },
  {
   "cell_type": "code",
   "execution_count": 39,
   "metadata": {},
   "outputs": [
    {
     "name": "stdout",
     "output_type": "stream",
     "text": [
      "새로운 패스워드를 선택하시오 (문자와 숫자만 가능)\n"
     ]
    }
   ],
   "source": [
    "while True:\n",
    "\tprint('새로운 패스워드를 선택하시오 (문자와 숫자만 가능)')\n",
    "\tpassword = input()\n",
    "\tif password.isalnum():\n",
    "\t\tbreak\n",
    "\tprint('문자와 숫자만을 이용하여 패스워드를 선택하시오.')"
   ]
  },
  {
   "cell_type": "markdown",
   "metadata": {},
   "source": [
    "p.313 startswith()와 endswith() 메소드"
   ]
  },
  {
   "cell_type": "code",
   "execution_count": 41,
   "metadata": {},
   "outputs": [
    {
     "name": "stdout",
     "output_type": "stream",
     "text": [
      "True\n",
      "True\n"
     ]
    }
   ],
   "source": [
    "print('Breakfast At Tiffany'.startswith('Breakfast'))\n",
    "\n",
    "print('Breakfast At Tiffany'.endswith('Tiffany'))"
   ]
  },
  {
   "cell_type": "markdown",
   "metadata": {},
   "source": [
    "p.313 파이썬 소스 파일 확인하기"
   ]
  },
  {
   "cell_type": "code",
   "execution_count": null,
   "metadata": {},
   "outputs": [],
   "source": [
    "s = input('파이썬 소스 파일 이름을 입력하시오: ')\n",
    "if s.endswith('.py'):\n",
    "\tprint('올바른 파일 이름입니다')\n",
    "else :\n",
    "\tprint('올바른 파일 이름이 아닙니다.')"
   ]
  },
  {
   "cell_type": "markdown",
   "metadata": {},
   "source": [
    "p.313 split()으로 문자열 분해하기"
   ]
  },
  {
   "cell_type": "code",
   "execution_count": null,
   "metadata": {},
   "outputs": [],
   "source": [
    "s = 'Welcome to Python'\n",
    "print(s.split())        #공백을 분리자로 지정"
   ]
  },
  {
   "cell_type": "code",
   "execution_count": 40,
   "metadata": {},
   "outputs": [
    {
     "name": "stdout",
     "output_type": "stream",
     "text": [
      "['Hello', ' World!']\n",
      "['Hello', 'World!']\n",
      "['H', 'e', 'l', 'l', 'o', ',', ' ', 'W', 'o', 'r', 'l', 'd', '!']\n"
     ]
    }
   ],
   "source": [
    "s = 'Hello, World!'\n",
    "print(s.split(','))     #,를 분리자로.\n",
    "print(s.split(', '))    #공백도 포함해서 분리자로.\n",
    "\n",
    "print(list('Hello, World!'))    #list()를 사용하면 문자열을 문자들로 분해"
   ]
  },
  {
   "cell_type": "code",
   "execution_count": 48,
   "metadata": {},
   "outputs": [
    {
     "name": "stdout",
     "output_type": "stream",
     "text": [
      "Silent night, holy night / All is calm, all is bright / 'Round yon virgin Mother and Child / Holy infant so tender and mild / Sleep in heavenly peace\n"
     ]
    }
   ],
   "source": [
    "# 여러줄로 이루어진 문자열을 한 줄씩 분리\n",
    "lyric = '''Silent night, holy night\n",
    "All is calm, all is bright\n",
    "'Round yon virgin Mother and Child\n",
    "Holy infant so tender and mild\n",
    "Sleep in heavenly peace'''\n",
    "x = ' / '.join(lyric.split('\\n'))\n",
    "print(x)"
   ]
  },
  {
   "cell_type": "markdown",
   "metadata": {},
   "source": [
    "p.315 join()으로 문자열 합치기"
   ]
  },
  {
   "cell_type": "code",
   "execution_count": null,
   "metadata": {},
   "outputs": [],
   "source": [
    "s = '-'.join(['apple', 'grape', 'banana'])  #중간에 -으로 결합\n",
    "print(s)\n",
    "\n",
    "s = ' '.join(['My', 'name', 'is', 'Kim'])     #중간에 공백으로 결합\n",
    "print(s)\n",
    "\n",
    "s = '-'.join('010.1234.5678'.split('.'))    #. 문자 대신에 - 문자 사용\n",
    "print(s)"
   ]
  },
  {
   "cell_type": "code",
   "execution_count": null,
   "metadata": {},
   "outputs": [],
   "source": [
    "# 문자들을 다시 모아서 문자열을 만들 때에서 join() 사용\n",
    "s = 'hello world'\n",
    "clist = list(s)\n",
    "print(clist)\n",
    "s = ''.join(clist)\n",
    "print(s)"
   ]
  },
  {
   "cell_type": "code",
   "execution_count": null,
   "metadata": {},
   "outputs": [],
   "source": [
    "# split()과 join()을 함께 사용하면 문자열 중에서 필요없는 공백을 제거할 수 있다.\n",
    "print('Action \\n\\t speak louder     than words')\n",
    "s = ' '.join('Action \\n\\t speak louder     than words'.split())\n",
    "print(s)"
   ]
  },
  {
   "cell_type": "markdown",
   "metadata": {},
   "source": [
    "p.316 strip()으로 공백 문자 제거하기"
   ]
  },
  {
   "cell_type": "code",
   "execution_count": null,
   "metadata": {},
   "outputs": [],
   "source": [
    "s = '   Hello, World!   '\n",
    "print(s)\n",
    "s = s.strip()   #왼쪽, 오른쪽 양쪽에서 공백 문자 제거\n",
    "print(s)"
   ]
  },
  {
   "cell_type": "code",
   "execution_count": null,
   "metadata": {},
   "outputs": [],
   "source": [
    "s = '###$$$this is exampe$$$###'\n",
    "\n",
    "print(s.strip('#$'))    # 특정문자 삭제\n",
    "\n",
    "print(s.lstrip('#'))    # 왼쪽 문자만 삭제\n",
    "\n",
    "print(s.rstrip('#'))    # 오른쪽 문자만 삭제"
   ]
  },
  {
   "cell_type": "markdown",
   "metadata": {},
   "source": [
    "p.316 ord()와 chr()함수"
   ]
  },
  {
   "cell_type": "code",
   "execution_count": null,
   "metadata": {},
   "outputs": [],
   "source": [
    "print(ord('a'))\n",
    "\n",
    "print(ord('가'))\n",
    "\n",
    "print(chr(97))\n",
    "\n",
    "print(chr(44032))"
   ]
  },
  {
   "cell_type": "markdown",
   "metadata": {},
   "source": [
    "p.317 찾기와 바꾸기"
   ]
  },
  {
   "cell_type": "code",
   "execution_count": null,
   "metadata": {},
   "outputs": [],
   "source": [
    "s = 'www.naver.co.kr'\n",
    "print(s.find('.kr'))\t#'.kr'의 인덱스를 반환한다.\n",
    "\n",
    "s = 'Let it be, let it be, let it be'\n",
    "print(s.rfind('let'))\t# 문자열의 끝에서부터 탐색한다.\n",
    "\n",
    "s = 'www.naver.co.kr'\n",
    "print(s.count('.'))\t\t# 단어가 등장하는 횟수를 반환한다.\n",
    "\n",
    "s = 'www.naver.com'\n",
    "print(s.replace('com', 'co.kr'))\t# 하나의 단어를 다른 단어로 교체한다."
   ]
  },
  {
   "cell_type": "markdown",
   "metadata": {},
   "source": [
    "p.318 머리 글자어 만들기"
   ]
  },
  {
   "cell_type": "code",
   "execution_count": null,
   "metadata": {},
   "outputs": [],
   "source": [
    "phrase  = input('문자열을 입력하시오: ')\n",
    "acronym = ''\n",
    "\n",
    "# 대문자로 만든 후에 단어들로 분리한다. \n",
    "for word in phrase.upper().split():\n",
    "\tacronym += word[0]\t\t# 단어를 첫 글자만을 acronym에 추가한다. \n",
    "  \n",
    "print( acronym )"
   ]
  },
  {
   "cell_type": "markdown",
   "metadata": {},
   "source": [
    "p.319 아이디와 도메인 구분하기"
   ]
  },
  {
   "cell_type": "code",
   "execution_count": null,
   "metadata": {},
   "outputs": [],
   "source": [
    "address=input('이메일 주소를 입력하시오: ')\n",
    "(id, domain) = address.split('@')\n",
    "\n",
    "print(address)\n",
    "print('아이디:'+id)\n",
    "print('도메인:'+domain)"
   ]
  },
  {
   "cell_type": "markdown",
   "metadata": {},
   "source": [
    "p.319 문자열의 공통 문자 찾기"
   ]
  },
  {
   "cell_type": "code",
   "execution_count": null,
   "metadata": {},
   "outputs": [],
   "source": [
    "s1=input('첫 번째 문자열:')\n",
    "s2=input('두 번째 문자열:')\n",
    "\n",
    "list1 = list( set(s1) & set(s2) )\t\t# 세트로 만들고 교집합 연산을 한다. \n",
    "\n",
    "print('\\n공통적인 글자:', end=' ')\n",
    "for i in list1:\n",
    "    print(i, end=' ')"
   ]
  },
  {
   "cell_type": "markdown",
   "metadata": {},
   "source": [
    "p.320 일회용 암호 만들기"
   ]
  },
  {
   "cell_type": "code",
   "execution_count": null,
   "metadata": {},
   "outputs": [],
   "source": [
    "import random\n",
    "  \n",
    "s = '0123456789'\t# 대상 문자열\n",
    "passlen = 4\t\t\t# 패스워드 길이\n",
    "\n",
    "p =  ''.join(random.sample(s, passlen ))\n",
    "print(p)"
   ]
  },
  {
   "cell_type": "markdown",
   "metadata": {},
   "source": [
    "p.321 정규식을 사용하지 않고 스마트폰 번호 찾기"
   ]
  },
  {
   "cell_type": "code",
   "execution_count": 38,
   "metadata": {},
   "outputs": [
    {
     "name": "stdout",
     "output_type": "stream",
     "text": [
      "010-8888-6666-> True\n",
      "000-1111-abcd-> False\n"
     ]
    }
   ],
   "source": [
    "def checkNumber(phoneNumber):\n",
    "\tif len(phoneNumber) != 13:\n",
    "\t\treturn False\n",
    "\tif phoneNumber[0:3] != '010':\n",
    "\t\treturn False\n",
    "\tif phoneNumber[3] != '-':\n",
    "\t\treturn False\n",
    "\tfor i in range(4, 8):\n",
    "\t\tif not phoneNumber[i].isdecimal():\n",
    "\t\t\treturn False\n",
    "\tif phoneNumber[8] != '-':\n",
    "\t\t\treturn False\n",
    "\tfor i in range(9, 13):\n",
    "\t\tif not phoneNumber[i].isdecimal():\n",
    "\t\t\treturn False\n",
    "\treturn True\n",
    "\n",
    "print('010-8888-6666->', checkNumber('010-8888-6666'))\n",
    "print('000-1111-abcd->', checkNumber('000-1111-abcd'))"
   ]
  },
  {
   "cell_type": "markdown",
   "metadata": {},
   "source": [
    "p.322 정규식을 사용하여 스마트폰 번호 찾기"
   ]
  },
  {
   "cell_type": "code",
   "execution_count": 44,
   "metadata": {},
   "outputs": [
    {
     "name": "stdout",
     "output_type": "stream",
     "text": [
      "발견된 휴대폰 번호: 010-1234-5678\n"
     ]
    }
   ],
   "source": [
    "import re\n",
    "\n",
    "pattern = r'010-\\d\\d\\d\\d-\\d\\d\\d\\d'\n",
    "found = re.search(pattern, '제 휴대폰 번호는 010-1234-5678입니다.')   # 문자열에서 pettern에 해당하는 문자열만 찾아서 found에 반환\n",
    "print('발견된 휴대폰 번호: ' + found.group())"
   ]
  },
  {
   "cell_type": "code",
   "execution_count": 66,
   "metadata": {},
   "outputs": [
    {
     "name": "stdout",
     "output_type": "stream",
     "text": [
      "발견된 휴대폰 번호: 000509-3033333\n"
     ]
    }
   ],
   "source": [
    "import re  # 정규 표현식 모듈을 임포트합니다.\n",
    "\n",
    "pattern = r'\\d{6}-\\d{7}'  # 정규 표현식 패턴을 정의합니다.\n",
    "found = re.search(pattern, '제 휴대폰 번호는 000509-3033333입니다.')  # 문자열에서 패턴을 찾아서 found에 저장합니다.\n",
    "\n",
    "print('발견된 휴대폰 번호: ' + found.group())  # 발견된 휴대폰 번호를 출력합니다.\n"
   ]
  },
  {
   "cell_type": "markdown",
   "metadata": {},
   "source": [
    "p.325 숫자로 시작하는 줄 찾기"
   ]
  },
  {
   "cell_type": "code",
   "execution_count": 59,
   "metadata": {},
   "outputs": [
    {
     "name": "stdout",
     "output_type": "stream",
     "text": [
      "1장 파이썬이란\n",
      "2장 변수\n",
      "3장 조건문\n"
     ]
    }
   ],
   "source": [
    "import re\n",
    "f = open('uscons.txt', encoding=\"utf-8\")\n",
    "for line in f:    \n",
    "\tline = line.rstrip()    \n",
    "\tif re.search('^[0-9]+', line) :\n",
    "\t\tprint(line)\n",
    "f.close()"
   ]
  },
  {
   "cell_type": "markdown",
   "metadata": {},
   "source": [
    "p.326 이메일 주소를 찾아보자"
   ]
  },
  {
   "cell_type": "code",
   "execution_count": null,
   "metadata": {},
   "outputs": [],
   "source": [
    "import re\n",
    "\n",
    "pattern = r'^[\\w]+@[\\w]+\\.[A-Za-z]{2,4}$'\n",
    "\n",
    "def checkEmail(emailAddress):\n",
    "\tif(re.fullmatch(pattern, emailAddress)):\n",
    "\t\tprint(f\"{emailAddress}는 유효한 이메일 주소입니다.\")\n",
    "\telse:\n",
    "\t\tprint(f\"{emailAddress}는 유효하지 않은 이메일 주소입니다.\")\n",
    "\n",
    "email = \"abc123@gmail.com\"\n",
    "checkEmail(email)\n",
    "\n",
    "email = \"abc.cde@com\"\n",
    "checkEmail(email)"
   ]
  },
  {
   "cell_type": "markdown",
   "metadata": {},
   "source": [
    "p.327 패스워드 검사 프로그램"
   ]
  },
  {
   "cell_type": "code",
   "execution_count": null,
   "metadata": {},
   "outputs": [],
   "source": [
    "import re\n",
    "\n",
    "def check():\n",
    "    while True:\n",
    "        password = input(\"패스워드를 입력하시오: \")\n",
    "        if len(password) < 8:\n",
    "            print(\"패스워드는 최소한 8글자이어야 합니다.\")\n",
    "        elif re.search('[0-9]', password) is None:\n",
    "            print(\"패스워드는 적어도 하나의 숫자를 가져야 합니다.\") \n",
    "        elif re.search('[A-Z]', password) is None: \n",
    "            print(\"패스워드는 적어도 대문자를 가져야 합니다.\") \n",
    "        else:\n",
    "            print(\"규정에 맞는 패스워드입니다.\")\n",
    "            break\n",
    "\n",
    "check()"
   ]
  },
  {
   "cell_type": "markdown",
   "metadata": {},
   "source": [
    "연습문제"
   ]
  },
  {
   "cell_type": "markdown",
   "metadata": {},
   "source": [
    "Programming"
   ]
  },
  {
   "cell_type": "code",
   "execution_count": 50,
   "metadata": {},
   "outputs": [
    {
     "name": "stdout",
     "output_type": "stream",
     "text": [
      "3일 동안 모두 출석한 교육생:\n",
      "박\n",
      "박\n",
      "전체 교육생 명단:\n",
      "장 박 이 류 김 \n",
      "박, 장, 류, 이, 김\n"
     ]
    }
   ],
   "source": [
    "# 퀴즈 1(튜플, 세트, 딕셔너리 관련)\n",
    "x = {\"1일차\" : [\"김\", \"장\", \"박\"], \"2일차\" : [\"장\", \"이\", \"박\"], \"3일차\" : [\"박\", \"이\", \"류\"]}\n",
    "i = []\n",
    "u = []\n",
    "\n",
    "# 3일 동안 모두 출석한 교육생 찾기\n",
    "for j in x[\"1일차\"]:\n",
    "    if j in x[\"2일차\"] and j in x[\"3일차\"]:\n",
    "        i.append(j)\n",
    "        \n",
    "if i:\n",
    "    print(\"3일 동안 모두 출석한 교육생:\")\n",
    "    for j in i:\n",
    "        print(j)\n",
    "else:\n",
    "    print(\"3일 동안 모두 출석한 교육생이 없습니다.\")\n",
    "\n",
    "# 3일 동안 모두 출석 2\n",
    "k = ', '.join((set(x[\"1일차\"]) & set(x[\"2일차\"]) & set(x[\"3일차\"])))\n",
    "\n",
    "print(k)\n",
    "\n",
    "# 전체 교육생 명단을 출력\n",
    "s = set()\n",
    "for jj in x.values():\n",
    "    s.update(jj)\n",
    "\n",
    "print(\"전체 교육생 명단:\")\n",
    "for jj in s:\n",
    "    print(jj, end=\" \")\n",
    "print()\n",
    "    \n",
    "# 전체 교육생 2\n",
    "ii = ', '.join((set(x[\"1일차\"]) | set(x[\"2일차\"]) | set(x[\"3일차\"])))\n",
    "print(ii)\n",
    "\n"
   ]
  },
  {
   "cell_type": "code",
   "execution_count": null,
   "metadata": {},
   "outputs": [],
   "source": [
    "import random\n",
    "print(random.randint(1, 10))"
   ]
  },
  {
   "cell_type": "code",
   "execution_count": 72,
   "metadata": {},
   "outputs": [
    {
     "name": "stdout",
     "output_type": "stream",
     "text": [
      "김밥\n",
      "30000\n"
     ]
    }
   ],
   "source": [
    "# 퀴즈2\n",
    "x = \"김밥-3000-10\"\n",
    "x = x.split(\"-\")\n",
    "\n",
    "# 출력 : 판매한 메뉴를 출력(김밥)\n",
    "print(x[0])\n",
    "\n",
    "# 총 판매금액\n",
    "print(int(x[1]) * int(x[2]))"
   ]
  },
  {
   "cell_type": "code",
   "execution_count": 119,
   "metadata": {},
   "outputs": [
    {
     "name": "stdout",
     "output_type": "stream",
     "text": [
      "오늘 총 판매금액 : 210000원\n",
      "오늘 판매한 메뉴들 : 김밥, 라면, 떡볶이\n"
     ]
    }
   ],
   "source": [
    "# 퀴즈3\n",
    "def quiz3() :\n",
    "    x = [\"김밥-3000-10\", \"라면-4000-20\", \"떡볶이-2000-50\"]\n",
    "    j = 0\n",
    "    u = []\n",
    "\n",
    "    # 오늘 총 판매금액\n",
    "    for i in x :\n",
    "        i = i.split(\"-\")\n",
    "        j += int(i[1]) * int(i[2])\n",
    "        \n",
    "        if i[0] :\n",
    "            u.append(i[0])\n",
    "    \n",
    "    # 판매한 메뉴들  \n",
    "    print(f\"오늘 총 판매금액 : {j}원\")\n",
    "    print(f\"오늘 판매한 메뉴들 : {', '.join(u)}\")\n",
    "\n",
    "quiz3()\n",
    "\n"
   ]
  },
  {
   "cell_type": "markdown",
   "metadata": {},
   "source": [
    "## ↑ 반복문 하나만 사용한 수정문\n",
    "## ↓ 반복문 2개를 사용한 퀴즈 정답용 코드"
   ]
  },
  {
   "cell_type": "code",
   "execution_count": 120,
   "metadata": {},
   "outputs": [
    {
     "name": "stdout",
     "output_type": "stream",
     "text": [
      "210000\n",
      "김밥, 라면, 떡볶이, "
     ]
    }
   ],
   "source": [
    "x = [\"김밥-3000-10\", \"라면-4000-20\", \"떡볶이-2000-50\"]\n",
    "j = 0  # 총 판매금액을 저장할 변수 초기화\n",
    "\n",
    "for i in x:\n",
    "    i = i.split(\"-\")\n",
    "    j += int(i[1]) * int(i[2])\n",
    "print(j)\n",
    "\n",
    "for i in x :\n",
    "    i = i.split(\"-\")\n",
    "    print(i[0], end=\", \")\n",
    "\n"
   ]
  },
  {
   "cell_type": "code",
   "execution_count": 37,
   "metadata": {},
   "outputs": [
    {
     "name": "stdout",
     "output_type": "stream",
     "text": [
      "이름 : 김\n",
      "파일명 : 과제물.hwp\n",
      "아래 한글\n",
      "\n",
      "이름 : 박\n",
      "파일명 : 과제물.ppt\n",
      "파워포인트\n",
      "\n",
      "이름 : 이\n",
      "파일명 : 숙제.hwp\n",
      "아래 한글\n",
      "\n"
     ]
    }
   ],
   "source": [
    "x = [\"김-과제물.hwp\", \"박-과제물.ppt\", \"이-숙제.hwp\"]\n",
    "\n",
    "for i in x :\n",
    "     \n",
    "    print(f\"이름 : {name}\")\n",
    "    print(f\"파일명 : {fileName}\")\n",
    "    \n",
    "    extension = i.split(\".\")        \n",
    "    if (extension[1] == \"hwp\") :\n",
    "        print(\"아래 한글\")\n",
    "    elif (extension[1] == \"ppt\") :\n",
    "        print(\"파워포인트\")\n",
    "    print()\n",
    "# print()\n",
    "    \n",
    "# for i in x :\n",
    "#     i = i.split(\"-\")\n",
    "\n",
    "# print()\n",
    "    \n",
    "# for i in x :\n"
   ]
  },
  {
   "cell_type": "code",
   "execution_count": 34,
   "metadata": {},
   "outputs": [
    {
     "name": "stdout",
     "output_type": "stream",
     "text": [
      "이름: 김, 확장자: 과제물.hwp 형식 : 아래 한글\n",
      "이름: 박, 확장자: 과제물.ppt 형식 : 파워포인트\n",
      "이름: 이, 확장자: 숙제.hwp 형식 : 아래 한글\n",
      "\n"
     ]
    }
   ],
   "source": [
    "x = [\"김-과제물.hwp\", \"박-과제물.ppt\", \"이-숙제.hwp\"]\n",
    "\n",
    "for filename in x:\n",
    "    name, extension = filename.split(\"-\")\n",
    "    extension = filename.split(\"-\")[1]  # .을 기준으로 확장자 추출\n",
    "    y = extension.split(\".\")[1]\n",
    "\n",
    "    print(f\"이름: {name}, 확장자: {extension}\", end=\" \")\n",
    "\n",
    "    if y == \"hwp\":\n",
    "        print(\"형식 : 아래 한글\")\n",
    "    elif y == \"ppt\":\n",
    "        print(\"형식 : 파워포인트\")\n",
    "print()\n"
   ]
  },
  {
   "cell_type": "markdown",
   "metadata": {},
   "source": [
    "## 연습문제 Programming"
   ]
  },
  {
   "cell_type": "code",
   "execution_count": 71,
   "metadata": {},
   "outputs": [
    {
     "name": "stdout",
     "output_type": "stream",
     "text": [
      "st\n"
     ]
    }
   ],
   "source": [
    "x = \"study\"\n",
    "\n",
    "if len(x) > 2 :\n",
    "    if x.endswith(\"ing\") :\n",
    "        x = x + \"ly\"\n",
    "    else :\n",
    "        x = x + \"ing\"\n",
    "print(x)"
   ]
  },
  {
   "cell_type": "code",
   "execution_count": 89,
   "metadata": {},
   "outputs": [
    {
     "name": "stdout",
     "output_type": "stream",
     "text": [
      "['우리는', '나라를', '구하기', '위해', '일어났습니다.']\n",
      "7 일어났습니다.\n"
     ]
    }
   ],
   "source": [
    "x = input(\"문자열을 입력해주세요\")\n",
    "temp = 0\n",
    "\n",
    "x = x.split(\" \")\n",
    "print(x)\n",
    "\n",
    "for i in x :\n",
    "    if len(i) > temp :\n",
    "        temp = len(i)\n",
    "        tempStr = i\n",
    "\n",
    "print(temp, tempStr)"
   ]
  },
  {
   "cell_type": "code",
   "execution_count": 96,
   "metadata": {},
   "outputs": [
    {
     "name": "stdout",
     "output_type": "stream",
     "text": [
      "{'H': 1, 'E': 1, 'L': 3, 'O': 2, 'W': 1, 'R': 1, 'D': 1}\n"
     ]
    }
   ],
   "source": [
    "x = \"Hello World\"\n",
    "x = x.upper()\n",
    "d = {}\n",
    "\n",
    "for i in x:\n",
    "    if i in d:\n",
    "        d[i] += 1\n",
    "    elif i == \" \":\n",
    "        continue\n",
    "    else:\n",
    "        d[i] = 1\n",
    "\n",
    "print(d)\n"
   ]
  },
  {
   "cell_type": "code",
   "execution_count": 98,
   "metadata": {},
   "outputs": [
    {
     "name": "stdout",
     "output_type": "stream",
     "text": [
      "{'LETTERS': 10, 'DIGITS': 3}\n"
     ]
    }
   ],
   "source": [
    "x = \"HelloWorld123\"\n",
    "d = {}\n",
    "\n",
    "for a in x :\n",
    "    if a.isalpha() :\n",
    "        if \"LETTERS\" in d :\n",
    "            d[\"LETTERS\"] += 1\n",
    "        else :\n",
    "            d[\"LETTERS\"] = 1\n",
    "    elif a.isdigit() :\n",
    "        if \"DIGITS\" in d :\n",
    "            d[\"DIGITS\"] += 1\n",
    "        else :\n",
    "            d[\"DIGITS\"] = 1\n",
    "\n",
    "print(d)"
   ]
  },
  {
   "cell_type": "code",
   "execution_count": 102,
   "metadata": {},
   "outputs": [
    {
     "name": "stdout",
     "output_type": "stream",
     "text": [
      "{'LETTERS': 10, 'DIGITS': 3}\n"
     ]
    }
   ],
   "source": [
    "x = \"HelloWorld123\"\n",
    "d = {\"LETTERS\" : 0, \"DIGITS\" : 0}\n",
    "\n",
    "d[\"LETTERS\"] = sum(1 for i in x if i.isalpha())\n",
    "d[\"DIGITS\"] = sum(1 for i in x if i.isdigit())\n",
    "\n",
    "print(d)"
   ]
  },
  {
   "cell_type": "code",
   "execution_count": 108,
   "metadata": {},
   "outputs": [
    {
     "name": "stdout",
     "output_type": "stream",
     "text": [
      "어허 야이 아잉럼아!! 사랑해야\n"
     ]
    }
   ],
   "source": [
    "x = [\"임마\", \"개새끼\", \"시발\", \"호구\"]\n",
    "y = \"임마 야이 시발럼아!! 개새끼야\"\n",
    "\n",
    "for i in x:\n",
    "    if i in y:\n",
    "        if i == \"개새끼\":\n",
    "            y = y.replace(i, \"사랑해\")\n",
    "        elif i == \"시발\":\n",
    "            y = y.replace(i, \"아잉\")\n",
    "        else:\n",
    "            y = y.replace(i, \"어허\")\n",
    "\n",
    "print(y)\n"
   ]
  }
 ],
 "metadata": {
  "kernelspec": {
   "display_name": "Python 3",
   "language": "python",
   "name": "python3"
  },
  "language_info": {
   "codemirror_mode": {
    "name": "ipython",
    "version": 3
   },
   "file_extension": ".py",
   "mimetype": "text/x-python",
   "name": "python",
   "nbconvert_exporter": "python",
   "pygments_lexer": "ipython3",
   "version": "3.11.6"
  },
  "orig_nbformat": 4
 },
 "nbformat": 4,
 "nbformat_minor": 2
}
