{
 "cells": [
  {
   "cell_type": "markdown",
   "metadata": {},
   "source": [
    "#### 10. 파일 입출력과 예외처리"
   ]
  },
  {
   "cell_type": "markdown",
   "metadata": {},
   "source": [
    "(주의) 데이터 폴더로 코딩을 실습해야."
   ]
  },
  {
   "cell_type": "code",
   "execution_count": 5,
   "metadata": {},
   "outputs": [
    {
     "name": "stdout",
     "output_type": "stream",
     "text": [
      "menu,num,price,total\n",
      "coffee,10,2000,20000\n",
      "ice cream,20,3000,60000\n",
      "latte,50,5000,250000\n",
      "\n"
     ]
    }
   ],
   "source": [
    "f = open(\"cafe.csv\", \"r\", encoding=\"utf-8\")\n",
    "f = f.read()\n",
    "print(f)"
   ]
  },
  {
   "cell_type": "code",
   "execution_count": 15,
   "metadata": {},
   "outputs": [],
   "source": [
    "import os\n",
    "os.chdir(\"D:\\\\1학년 2학기\\\\파이썬 응용_조정현 교수님\")"
   ]
  },
  {
   "cell_type": "code",
   "execution_count": 33,
   "metadata": {},
   "outputs": [
    {
     "name": "stdout",
     "output_type": "stream",
     "text": [
      "D:\\1학년 2학기\\파이썬 응용_조정현 교수님\\python-master\\src\n"
     ]
    }
   ],
   "source": [
    "import os\n",
    "print(os.getcwd())\t"
   ]
  },
  {
   "cell_type": "code",
   "execution_count": 2,
   "metadata": {},
   "outputs": [
    {
     "ename": "NameError",
     "evalue": "name 'os' is not defined",
     "output_type": "error",
     "traceback": [
      "\u001b[1;31m---------------------------------------------------------------------------\u001b[0m",
      "\u001b[1;31mNameError\u001b[0m                                 Traceback (most recent call last)",
      "\u001b[1;32md:\\1학년 2학기\\파이썬 응용_조정현 교수님\\python-master\\src\\10장_파일 입출력과 예외처리.ipynb 셀 5\u001b[0m line \u001b[0;36m2\n\u001b[0;32m      <a href='vscode-notebook-cell:/d%3A/1%ED%95%99%EB%85%84%202%ED%95%99%EA%B8%B0/%ED%8C%8C%EC%9D%B4%EC%8D%AC%20%EC%9D%91%EC%9A%A9_%EC%A1%B0%EC%A0%95%ED%98%84%20%EA%B5%90%EC%88%98%EB%8B%98/python-master/src/10%EC%9E%A5_%ED%8C%8C%EC%9D%BC%20%EC%9E%85%EC%B6%9C%EB%A0%A5%EA%B3%BC%20%EC%98%88%EC%99%B8%EC%B2%98%EB%A6%AC.ipynb#W3sZmlsZQ%3D%3D?line=0'>1</a>\u001b[0m \u001b[39m# os.getcwd()\u001b[39;00m\n\u001b[1;32m----> <a href='vscode-notebook-cell:/d%3A/1%ED%95%99%EB%85%84%202%ED%95%99%EA%B8%B0/%ED%8C%8C%EC%9D%B4%EC%8D%AC%20%EC%9D%91%EC%9A%A9_%EC%A1%B0%EC%A0%95%ED%98%84%20%EA%B5%90%EC%88%98%EB%8B%98/python-master/src/10%EC%9E%A5_%ED%8C%8C%EC%9D%BC%20%EC%9E%85%EC%B6%9C%EB%A0%A5%EA%B3%BC%20%EC%98%88%EC%99%B8%EC%B2%98%EB%A6%AC.ipynb#W3sZmlsZQ%3D%3D?line=1'>2</a>\u001b[0m os\u001b[39m.\u001b[39mchdir(\u001b[39m\"\u001b[39m\u001b[39mD:\u001b[39m\u001b[39m\\\\\u001b[39;00m\u001b[39m1학년 2학기\u001b[39m\u001b[39m\\\\\u001b[39;00m\u001b[39m파이썬 응용_조정현 교수님\u001b[39m\u001b[39m\\\\\u001b[39;00m\u001b[39mpython-master\u001b[39m\u001b[39m\\\\\u001b[39;00m\u001b[39msrc\u001b[39m\u001b[39m\\\\\u001b[39;00m\u001b[39mchap10_data\u001b[39m\u001b[39m\"\u001b[39m)\n\u001b[0;32m      <a href='vscode-notebook-cell:/d%3A/1%ED%95%99%EB%85%84%202%ED%95%99%EA%B8%B0/%ED%8C%8C%EC%9D%B4%EC%8D%AC%20%EC%9D%91%EC%9A%A9_%EC%A1%B0%EC%A0%95%ED%98%84%20%EA%B5%90%EC%88%98%EB%8B%98/python-master/src/10%EC%9E%A5_%ED%8C%8C%EC%9D%BC%20%EC%9E%85%EC%B6%9C%EB%A0%A5%EA%B3%BC%20%EC%98%88%EC%99%B8%EC%B2%98%EB%A6%AC.ipynb#W3sZmlsZQ%3D%3D?line=2'>3</a>\u001b[0m \u001b[39m# os.chdir(\"D:\\\\1학년 2학기\\\\파이썬 응용_조정현 교수님\\\\python-master\\\\src\")\u001b[39;00m\n\u001b[0;32m      <a href='vscode-notebook-cell:/d%3A/1%ED%95%99%EB%85%84%202%ED%95%99%EA%B8%B0/%ED%8C%8C%EC%9D%B4%EC%8D%AC%20%EC%9D%91%EC%9A%A9_%EC%A1%B0%EC%A0%95%ED%98%84%20%EA%B5%90%EC%88%98%EB%8B%98/python-master/src/10%EC%9E%A5_%ED%8C%8C%EC%9D%BC%20%EC%9E%85%EC%B6%9C%EB%A0%A5%EA%B3%BC%20%EC%98%88%EC%99%B8%EC%B2%98%EB%A6%AC.ipynb#W3sZmlsZQ%3D%3D?line=3'>4</a>\u001b[0m \n\u001b[0;32m      <a href='vscode-notebook-cell:/d%3A/1%ED%95%99%EB%85%84%202%ED%95%99%EA%B8%B0/%ED%8C%8C%EC%9D%B4%EC%8D%AC%20%EC%9D%91%EC%9A%A9_%EC%A1%B0%EC%A0%95%ED%98%84%20%EA%B5%90%EC%88%98%EB%8B%98/python-master/src/10%EC%9E%A5_%ED%8C%8C%EC%9D%BC%20%EC%9E%85%EC%B6%9C%EB%A0%A5%EA%B3%BC%20%EC%98%88%EC%99%B8%EC%B2%98%EB%A6%AC.ipynb#W3sZmlsZQ%3D%3D?line=4'>5</a>\u001b[0m \u001b[39m# os.getcwd()\u001b[39;00m\n",
      "\u001b[1;31mNameError\u001b[0m: name 'os' is not defined"
     ]
    }
   ],
   "source": [
    "# os.getcwd()\n",
    "os.chdir(\"D:\\\\1학년 2학기\\\\파이썬 응용_조정현 교수님\\\\python-master\\\\src\\\\chap10_data\")\n",
    "# os.chdir(\"D:\\\\1학년 2학기\\\\파이썬 응용_조정현 교수님\\\\python-master\\\\src\")\n",
    "\n",
    "# os.getcwd()"
   ]
  },
  {
   "cell_type": "code",
   "execution_count": 39,
   "metadata": {},
   "outputs": [
    {
     "ename": "FileNotFoundError",
     "evalue": "[WinError 2] 지정된 파일을 찾을 수 없습니다: '\\\\chap10_data'",
     "output_type": "error",
     "traceback": [
      "\u001b[1;31m---------------------------------------------------------------------------\u001b[0m",
      "\u001b[1;31mFileNotFoundError\u001b[0m                         Traceback (most recent call last)",
      "\u001b[1;32md:\\1학년 2학기\\파이썬 응용_조정현 교수님\\python-master\\src\\10장_파일 입출력과 예외처리.ipynb 셀 5\u001b[0m line \u001b[0;36m1\n\u001b[1;32m----> <a href='vscode-notebook-cell:/d%3A/1%ED%95%99%EB%85%84%202%ED%95%99%EA%B8%B0/%ED%8C%8C%EC%9D%B4%EC%8D%AC%20%EC%9D%91%EC%9A%A9_%EC%A1%B0%EC%A0%95%ED%98%84%20%EA%B5%90%EC%88%98%EB%8B%98/python-master/src/10%EC%9E%A5_%ED%8C%8C%EC%9D%BC%20%EC%9E%85%EC%B6%9C%EB%A0%A5%EA%B3%BC%20%EC%98%88%EC%99%B8%EC%B2%98%EB%A6%AC.ipynb#W3sZmlsZQ%3D%3D?line=0'>1</a>\u001b[0m os\u001b[39m.\u001b[39;49mchdir(\u001b[39m'\u001b[39;49m\u001b[39m\\\\\u001b[39;49;00m\u001b[39mchap10_data\u001b[39;49m\u001b[39m'\u001b[39;49m)\n\u001b[0;32m      <a href='vscode-notebook-cell:/d%3A/1%ED%95%99%EB%85%84%202%ED%95%99%EA%B8%B0/%ED%8C%8C%EC%9D%B4%EC%8D%AC%20%EC%9D%91%EC%9A%A9_%EC%A1%B0%EC%A0%95%ED%98%84%20%EA%B5%90%EC%88%98%EB%8B%98/python-master/src/10%EC%9E%A5_%ED%8C%8C%EC%9D%BC%20%EC%9E%85%EC%B6%9C%EB%A0%A5%EA%B3%BC%20%EC%98%88%EC%99%B8%EC%B2%98%EB%A6%AC.ipynb#W3sZmlsZQ%3D%3D?line=1'>2</a>\u001b[0m \u001b[39mprint\u001b[39m(os\u001b[39m.\u001b[39mgetcwd())\n",
      "\u001b[1;31mFileNotFoundError\u001b[0m: [WinError 2] 지정된 파일을 찾을 수 없습니다: '\\\\chap10_data'"
     ]
    }
   ],
   "source": [
    "os.chdir('\\\\chap10_data')\n",
    "print(os.getcwd())"
   ]
  },
  {
   "cell_type": "code",
   "execution_count": 49,
   "metadata": {},
   "outputs": [
    {
     "name": "stdout",
     "output_type": "stream",
     "text": [
      "파이썬은 강력합니다.\n",
      "커피 10\n",
      "생수 20\n",
      "라떼 30\n",
      "\n"
     ]
    }
   ],
   "source": [
    "f = open(\"ttt.txt\", \"r\", encoding=\"utf-8\")\n",
    "x = f.read()\n",
    "print(x)"
   ]
  },
  {
   "cell_type": "markdown",
   "metadata": {},
   "source": [
    "p.340 파일에 쓰기"
   ]
  },
  {
   "cell_type": "code",
   "execution_count": 46,
   "metadata": {},
   "outputs": [],
   "source": [
    "f = open(\"ttt.txt\", \"w\", encoding=\"utf-8\")\n",
    "f.write(\"파이썬은 강력합니다.\\n\")\n",
    "f.write(\"커피 10\\n\")\n",
    "f.write(\"생수 20\\n\")\n",
    "f.write(\"라떼 30\\n\")\n",
    "f.close()"
   ]
  },
  {
   "cell_type": "markdown",
   "metadata": {},
   "source": [
    "p.341 파일에서 읽기"
   ]
  },
  {
   "cell_type": "code",
   "execution_count": 51,
   "metadata": {},
   "outputs": [
    {
     "name": "stdout",
     "output_type": "stream",
     "text": [
      "파이썬은 강력합니다.\n",
      "커피 10\n",
      "생수 20\n",
      "라떼 30\n",
      "\n"
     ]
    }
   ],
   "source": [
    "f = open(\"ttt.txt\", \"r\", encoding=\"utf-8\")\n",
    "s = f.read()\n",
    "print(s)\n",
    "f.close()"
   ]
  },
  {
   "cell_type": "markdown",
   "metadata": {},
   "source": [
    "파일에 추가하기"
   ]
  },
  {
   "cell_type": "code",
   "execution_count": null,
   "metadata": {},
   "outputs": [],
   "source": [
    "f = open(\"test.txt\", \"a\")\n",
    "f.write(\"파이썬은 간결합니다.\\n\")\n",
    "f.close()\n",
    "f = open(\"test.txt\", \"r\")\n",
    "s = f.read()\n",
    "print(s)\n",
    "f.close()"
   ]
  },
  {
   "cell_type": "markdown",
   "metadata": {},
   "source": [
    "with 문으로 파일 열기"
   ]
  },
  {
   "cell_type": "code",
   "execution_count": 53,
   "metadata": {},
   "outputs": [],
   "source": [
    "with open(\"ttt.txt\", \"w\", encoding=\"utf-8\") as f:\n",
    "    f.write(\"파이썬은 간결합니다.\\n\")\n",
    "    \n",
    "    # f.close()를 호출하지 않아도 된다."
   ]
  },
  {
   "cell_type": "markdown",
   "metadata": {},
   "source": [
    "p.342 파일을 연 후에는 무엇을 하는가?   \n",
    "문자열로 분리하여 원하는 작업을 할 수 있다."
   ]
  },
  {
   "cell_type": "code",
   "execution_count": 54,
   "metadata": {},
   "outputs": [
    {
     "name": "stdout",
     "output_type": "stream",
     "text": [
      "['커피-10', '생수-20', '라떼-30', '']\n"
     ]
    }
   ],
   "source": [
    "f = open(\"ttt.txt\", \"r\", encoding=\"utf-8\")\n",
    "s = f.read()\n",
    "myList = s.split(\"\\n\")  # 리스트에 저장된다.\n",
    "print(myList)\n",
    "f.close()"
   ]
  },
  {
   "cell_type": "code",
   "execution_count": 88,
   "metadata": {},
   "outputs": [
    {
     "name": "stdout",
     "output_type": "stream",
     "text": [
      "['커피-10\\n', '생수-20\\n', '라떼-30']\n",
      "메뉴 :  커피, 판매수량 :  10\n",
      "메뉴 :  생수, 판매수량 :  20\n",
      "메뉴 :  라떼, 판매수량 :  30\n",
      "전체 판매 수량 :  60\n"
     ]
    }
   ],
   "source": [
    "f = open(\"ttt.txt\", \"r\", encoding=\"utf-8\")\n",
    "s = f.readlines()\n",
    "print(s)\n",
    "\n",
    "z = 0  # 총 판매 수량을 저장할 변수를 초기화합니다.\n",
    "\n",
    "for a in s :\n",
    "    a = a.strip()\n",
    "    print(\"메뉴 : \", a.split(\"-\")[0], end=\", \")\n",
    "    print(f\"판매수량 : \", a.split(\"-\")[1])\n",
    "    z += int(a.split(\"-\")[1])\n",
    "\n",
    "print(\"전체 판매 수량 : \", z)\n",
    "\n",
    "f.close()\n",
    "\n",
    "f = open(\"ttt.txt\", \"a\", encoding=\"utf-8\")\n",
    "t = \"\\n전체 판매 수량 : \" +  str(z)\n",
    "f.write(t)\n",
    "f.close()\n"
   ]
  },
  {
   "cell_type": "markdown",
   "metadata": {},
   "source": [
    "p.346 CSV 데이터 처리하기"
   ]
  },
  {
   "cell_type": "code",
   "execution_count": 8,
   "metadata": {},
   "outputs": [
    {
     "name": "stdout",
     "output_type": "stream",
     "text": [
      "총 판매액 : 330000\n"
     ]
    }
   ],
   "source": [
    "import csv\n",
    "f = open(\"cafe.csv\", encoding=\"utf-8\")\n",
    "x = csv.reader(f)   # 모두 읽어온다. 리스트 구조로 저장\n",
    "s = 0\n",
    "y = next(x)\n",
    "\n",
    "for d in x :\n",
    "    s += int(d[3])\n",
    "print(f\"총 판매액 : {s}\")\n",
    "f.close()"
   ]
  },
  {
   "cell_type": "code",
   "execution_count": 58,
   "metadata": {},
   "outputs": [
    {
     "name": "stdout",
     "output_type": "stream",
     "text": [
      "python 10 20 10 10\n",
      "c 10 10 20 30\n",
      "js 20 30 30 60\n",
      "가장 높은 과목 : js, 가장 높은 점수 : 30\n",
      "합계 : 60\n"
     ]
    }
   ],
   "source": [
    "import csv\n",
    "\n",
    "f = open(\"ss.csv\", encoding=\"utf-8\")\n",
    "x = csv.reader(f)   # 모두 읽어온다. 리스트 구조로 저장\n",
    "s = 0\n",
    "y = next(x)\n",
    "z = 0  # 최댓값 초기화\n",
    "\n",
    "for d in x:\n",
    "    s += int(d[3])\n",
    "    print(d[0], d[1], d[2], d[3], s)\n",
    "    \n",
    "    if int(d[3]) >= z:\n",
    "        z = int(d[3])\n",
    "        q = d[0]\n",
    "\n",
    "print(f\"가장 높은 과목 : {q}, 가장 높은 점수 : {z}\")\n",
    "print(f\"합계 : {s}\")\n",
    "\n",
    "f.close()\n"
   ]
  },
  {
   "cell_type": "code",
   "execution_count": null,
   "metadata": {},
   "outputs": [],
   "source": [
    "import csv\t\t\t\t\t# CSV 모듈을 불러온다. \n",
    "\n",
    "f = open('weather.csv')\t\t# CSV 파일을 열어서 f에 저장한다. \n",
    "data = csv.reader(f)\t\t# reader() 함수를 이용하여 읽는다. \n",
    "for row in data:\n",
    "\tprint(row)\n",
    "f.close()"
   ]
  },
  {
   "cell_type": "markdown",
   "metadata": {},
   "source": [
    "첫번째 행(데이터 속성 표시)을 제거"
   ]
  },
  {
   "cell_type": "code",
   "execution_count": null,
   "metadata": {},
   "outputs": [],
   "source": [
    "import csv\t\t\t\t\t# CSV 모듈을 불러온다. \n",
    "\n",
    "f = open('weather.csv')\t\t# CSV 파일을 열어서 f에 저장한다. \n",
    "data = csv.reader(f)\t\t# reader() 함수를 이용하여 읽는다. \n",
    "header = next(data)\t\t\t# 헤더를 제거한다. \n",
    "for row in data:\t\t\t# 반복 루프를 사용하여 데이터를 읽는다.\n",
    "\tprint(row)\n",
    "f.close()\t\t\t\t\t# 파일을 닫는다. "
   ]
  },
  {
   "cell_type": "markdown",
   "metadata": {},
   "source": [
    "서울이 언제 가장 추었는지 조사"
   ]
  },
  {
   "cell_type": "code",
   "execution_count": null,
   "metadata": {},
   "outputs": [],
   "source": [
    "import csv\n",
    "\n",
    "f = open('weather.csv')\n",
    "data = csv.reader(f)\n",
    "header = next(data)\n",
    "temp = 1000\n",
    "when = \"\"\n",
    "for row in data:\n",
    "    if temp > float(row[3]):\n",
    "        temp = float(row[3])\n",
    "        when = row[0]\n",
    "print(temp, \"날짜:\", when)\n",
    "f.close()"
   ]
  },
  {
   "cell_type": "markdown",
   "metadata": {},
   "source": [
    "p.349 Lab. 인구 데이터 - 서울의 인구만을 추출"
   ]
  },
  {
   "cell_type": "code",
   "execution_count": null,
   "metadata": {},
   "outputs": [],
   "source": [
    "import csv\n",
    "import matplotlib.pyplot as plt\n",
    "\n",
    "f = open('ages.csv')\n",
    "data = csv.reader(f)\n",
    "header = next(data)\n",
    "\n",
    "for row in data:\n",
    "    if '서울특별시' in row[0]: \n",
    "        print(row)\n",
    "f.close()"
   ]
  },
  {
   "cell_type": "markdown",
   "metadata": {},
   "source": [
    "p.350 디렉토리 작업"
   ]
  },
  {
   "cell_type": "markdown",
   "metadata": {},
   "source": [
    "현재 작업 디렉토리"
   ]
  },
  {
   "cell_type": "code",
   "execution_count": null,
   "metadata": {},
   "outputs": [],
   "source": [
    "import os\n",
    "\n",
    "print(os.getcwd())\t# 현재 작업 디렉토리를 문자열 형식으로 반환\n",
    "print(os.getcwdb())\t\t# 바이트 배열 객체로 가져오기"
   ]
  },
  {
   "cell_type": "markdown",
   "metadata": {},
   "source": [
    "디렉토리 변경"
   ]
  },
  {
   "cell_type": "code",
   "execution_count": null,
   "metadata": {},
   "outputs": [],
   "source": [
    "os.chdir('C:\\\\')\n",
    "print(os.getcwd())"
   ]
  },
  {
   "cell_type": "markdown",
   "metadata": {},
   "source": [
    "p351. 디렉토리 안의 파일 나열"
   ]
  },
  {
   "cell_type": "code",
   "execution_count": null,
   "metadata": {},
   "outputs": [],
   "source": [
    "s = os.listdir()\t\t# 리스트 형식으로 반환\n",
    "print(s)\n",
    "\n",
    "print(os.listdir('C:\\\\Temp'))\t"
   ]
  },
  {
   "cell_type": "code",
   "execution_count": null,
   "metadata": {},
   "outputs": [],
   "source": [
    "for filename in os.listdir():\t# 하나씩 출력한다.\n",
    "    print(filename)\t# 폴더, 파일 모두 출력한다."
   ]
  },
  {
   "cell_type": "code",
   "execution_count": null,
   "metadata": {},
   "outputs": [],
   "source": [
    "for filename in os.listdir():    \n",
    "    if os.path.isfile(filename):\t# 파일만 처리\n",
    "        print(filename)"
   ]
  },
  {
   "cell_type": "code",
   "execution_count": null,
   "metadata": {},
   "outputs": [],
   "source": [
    "cwd = os.getcwd()\n",
    "files = os.listdir()\n",
    "for name in files :\n",
    "\tif os.path.isfile(name) :\n",
    "\t\tif name.endswith(\".jpg\") :      #.jpg 파일만 찾아서 출력\n",
    "\t\t\tprint(name)"
   ]
  },
  {
   "cell_type": "markdown",
   "metadata": {},
   "source": [
    "p.352 새 디렉토리 만들기"
   ]
  },
  {
   "cell_type": "code",
   "execution_count": null,
   "metadata": {},
   "outputs": [],
   "source": [
    "os.mkdir('test')\n",
    "print(os.listdir())"
   ]
  },
  {
   "cell_type": "markdown",
   "metadata": {},
   "source": [
    "디렉토리 또는 파일 이름 바꾸기"
   ]
  },
  {
   "cell_type": "code",
   "execution_count": null,
   "metadata": {},
   "outputs": [],
   "source": [
    "print(os.listdir())\n",
    "os.rename('test', 'test2')\n",
    "print(os.listdir())"
   ]
  },
  {
   "cell_type": "markdown",
   "metadata": {},
   "source": [
    "디렉토리 또는 파일 제거"
   ]
  },
  {
   "cell_type": "code",
   "execution_count": null,
   "metadata": {},
   "outputs": [],
   "source": [
    "print(os.listdir())\n",
    "os.remove('packageTest.java')\t# 파일 제거\n",
    "print(os.listdir())\n",
    "\n",
    "os.rmdir('test')\t# 디렉토리 제거\n",
    "print(os.listdir())"
   ]
  },
  {
   "cell_type": "markdown",
   "metadata": {},
   "source": [
    "p.353 Lab. 디렉토리 안의 파일 처리   \n",
    "파일 중에서 'Python'을 포함하고 있는 줄이 있으면 파일이 이름, 줄번호와 함께 해당 줄을 출력한다."
   ]
  },
  {
   "cell_type": "code",
   "execution_count": null,
   "metadata": {},
   "outputs": [],
   "source": [
    "import os\n",
    "arr = os.listdir()\n",
    "\n",
    "for f in arr:\n",
    "    if f.endswith(\".txt\") or f.endswith(\".py\"):     # 대상 파일을 제한\n",
    "        infile = open(f, \"r\", encoding=\"utf-8\")\n",
    "        linecnt = 0\n",
    "        for line in infile:\n",
    "            linecnt += 1            # 줄번호 \n",
    "            e = line.rstrip()\t\t# 오른쪽 줄바꿈 문자를 없앤다. \n",
    "            if \"Python\" in e:\n",
    "                print(f, linecnt, \":\", e)\n",
    "        infile.close()\n",
    "\n",
    "\n",
    "# if os.path.exists(\"aa.txt\"):\n",
    "#     print(\"ok\")\n",
    "    \n",
    "# if os.path.isfile(\"aa.txt\"):\n",
    "#     print(\"ok\")"
   ]
  },
  {
   "cell_type": "markdown",
   "metadata": {},
   "source": [
    "p.354 Lab. 수학문제지 100개 만들기"
   ]
  },
  {
   "cell_type": "code",
   "execution_count": null,
   "metadata": {},
   "outputs": [],
   "source": [
    "import random\n",
    "import os\n",
    "\n",
    "os.mkdir(\"math_ex\")\n",
    "\n",
    "for i in range(100):\n",
    "\tf = open(f\"math_ex/ex{i}.txt\", \"w\")\n",
    "\tf.write(\"다음의 문제를 풀어서 제출하세요\\n\")\n",
    "\tf.write(\"이름:       점수:        \\n\\n\")\n",
    "\n",
    "\tfor k in range(10):\n",
    "\t\tx = random.randint(0, 100)\n",
    "\t\ty = random.randint(0, 100)\n",
    "\t\top = random.choice(\"+-*/\")\n",
    "\t\tf.write(f\"{x} {op} {y} = \\n\")\n",
    "\tf.close()"
   ]
  },
  {
   "cell_type": "markdown",
   "metadata": {},
   "source": [
    "p.355 이진 파일"
   ]
  },
  {
   "cell_type": "markdown",
   "metadata": {},
   "source": [
    "이진 파일에서 바이트 읽기"
   ]
  },
  {
   "cell_type": "code",
   "execution_count": 12,
   "metadata": {},
   "outputs": [],
   "source": [
    "x = input(\"복사할 파일: \")\n",
    "y = input(\"새로운 이름 :\")\n",
    "\n",
    "f = open(\"D:\\\\1학년 2학기\\\\파이썬 응용_조정현 교수님\\\\데이터 실습파일\\\\\"+x, \"rb\")\n",
    "fout = open(\"D:\\\\1학년 2학기\\\\파이썬 응용_조정현 교수님\\\\데이터 실습파일\\\\\"+y, \"wb\")\n",
    "\n",
    "while True : \n",
    "    x = f.read(1024)\n",
    "    if not x :\n",
    "        break\n",
    "    fout.write(x)\n",
    "        \n",
    "\n",
    "f.close()\n",
    "fout.close()"
   ]
  },
  {
   "cell_type": "code",
   "execution_count": null,
   "metadata": {},
   "outputs": [],
   "source": [
    "filename = \"cat.jpg\"\n",
    "infile = open(filename, \"rb\")   #이진파일 읽기\n",
    "bytesArray = infile.read(8)      #입력파일에서 8바이트 읽기\n",
    "byte1 = bytesArray[0]       # 첫번째 바이트 꺼내기\n",
    "infile.close()"
   ]
  },
  {
   "cell_type": "markdown",
   "metadata": {},
   "source": [
    "이진 파일에 바이트 저장하기"
   ]
  },
  {
   "cell_type": "code",
   "execution_count": null,
   "metadata": {},
   "outputs": [],
   "source": [
    "filename = \"out.aaa\"\n",
    "outfile = open(filename, \"wb\")\n",
    "bytesArray = bytes([255, 128, 0, 1])\n",
    "outfile.write(bytesArray)\n",
    "outfile.close()"
   ]
  },
  {
   "cell_type": "markdown",
   "metadata": {},
   "source": [
    "p.356 이진 파일 복사하기"
   ]
  },
  {
   "cell_type": "code",
   "execution_count": null,
   "metadata": {},
   "outputs": [],
   "source": [
    "infile = open(\"123.png\", \"rb\")\n",
    "outfile = open(\"kkk.png\", \"wb\")\n",
    "\n",
    "# 입력 파일에서 1024 바이트씩 읽어서 출력 파일에 쓴다. \n",
    "while True:\n",
    "    copy_buffer = infile.read(1024)\n",
    "    if not copy_buffer:\n",
    "        break\n",
    "    outfile.write(copy_buffer)\n",
    "\n",
    "infile.close()\n",
    "outfile.close()\n",
    "print(str(infile)+\"를 \" +str(outfile)+\"로 복사하였습니다. \")"
   ]
  },
  {
   "cell_type": "markdown",
   "metadata": {},
   "source": [
    "p.357 객체 출력"
   ]
  },
  {
   "cell_type": "code",
   "execution_count": 26,
   "metadata": {},
   "outputs": [
    {
     "name": "stdout",
     "output_type": "stream",
     "text": [
      "{'김': '101010', '이': '1010010', '박': '12932198'}\n"
     ]
    }
   ],
   "source": [
    "import pickle\n",
    "\n",
    "f = open(\"D:\\\\1학년 2학기\\\\파이썬 응용_조정현 교수님\\\\데이터 실습파일\\\\mydic.kyb\", \"rb\")\n",
    "print(pickle.load(f))\n",
    "# x = pickle.load(f)\n",
    "# print(x)\n",
    "\n",
    "f.close()"
   ]
  },
  {
   "cell_type": "code",
   "execution_count": 20,
   "metadata": {},
   "outputs": [
    {
     "name": "stdout",
     "output_type": "stream",
     "text": [
      "{'김': '101010', '이': '1010010', '박': '12932198'}\n"
     ]
    }
   ],
   "source": [
    "import pickle\n",
    "\n",
    "data = {}\n",
    "\n",
    "while(1) :        \n",
    "    x = input(\"이름 : \")\n",
    "    if (x == \"q\" or x == \"Q\") : \n",
    "        break\n",
    "    y = input(\"휴대폰 번호 : \")\n",
    "\n",
    "    data[x] = y\n",
    "\n",
    "print(data)\n",
    "\n",
    "f = open(\"D:\\\\1학년 2학기\\\\파이썬 응용_조정현 교수님\\\\데이터 실습파일\\\\mydic.kyb\", \"wb\")\n",
    "pickle.dump(data, f)\n",
    "\n",
    "f.close()"
   ]
  },
  {
   "cell_type": "markdown",
   "metadata": {},
   "source": [
    "p.358 딕셔너리 저장하기"
   ]
  },
  {
   "cell_type": "code",
   "execution_count": null,
   "metadata": {},
   "outputs": [],
   "source": [
    "import pickle\n",
    "\n",
    "gameOption = { \t\t\t# 파일을 닫는다.\t\n",
    "\t\t\t \"Sound\": 8,\n",
    "\t\t\t \"VideoQuality\": \"HIGH\",\n",
    "\t\t\t \"Money\": 100000,\n",
    "\t\t\t \"WeaponList\": [\"gun\", \"missile\", \"knife\" ]\n",
    "}\n",
    "\n",
    "file = open(\"save.p\", \"wb\")\t# 이진 파일 오픈\n",
    "pickle.dump(gameOption, file)\t# 딕셔너리를 피클 파일에 저장\n",
    "file.close()\t\t\t\t# 파일을 닫는다."
   ]
  },
  {
   "cell_type": "markdown",
   "metadata": {},
   "source": [
    "p.359 딕셔너리 복원하기"
   ]
  },
  {
   "cell_type": "code",
   "execution_count": null,
   "metadata": {},
   "outputs": [],
   "source": [
    "import pickle\n",
    "\n",
    "file = open(\"save.p\", \"rb\")\t\t# 이진 파일 오픈\n",
    "obj = pickle.load(file)\t# 피클 파일에 딕션너리를 로딩\n",
    "print(obj)"
   ]
  },
  {
   "cell_type": "markdown",
   "metadata": {},
   "source": [
    "p.359 예외처리"
   ]
  },
  {
   "cell_type": "code",
   "execution_count": 5,
   "metadata": {},
   "outputs": [
    {
     "name": "stdout",
     "output_type": "stream",
     "text": [
      "tprttm\n"
     ]
    }
   ],
   "source": [
    "try :\n",
    "    x = int(input(\"수를 입력 : \"))\n",
    "    y = int(input(\"수를 입력 : \"))\n",
    "\n",
    "    print(x / y)\n",
    "    \n",
    "except ZeroDivisionError :\n",
    "    print(\"tprttm\")"
   ]
  },
  {
   "cell_type": "markdown",
   "metadata": {},
   "source": [
    "p.362 0으로 나누는 예외 처리"
   ]
  },
  {
   "cell_type": "code",
   "execution_count": null,
   "metadata": {},
   "outputs": [],
   "source": [
    "(x,y) = (2,0)\n",
    "try:\n",
    "    z = x/y\n",
    "except ZeroDivisionError:\n",
    "    print (\"0으로 나누는 예외\")"
   ]
  },
  {
   "cell_type": "code",
   "execution_count": null,
   "metadata": {},
   "outputs": [],
   "source": [
    "(x,y) = (2,0)\n",
    "try:\n",
    "    z = x/y\n",
    "except ZeroDivisionError as e:  # 시스템이 내보내는 예외 메시지 출력\n",
    "    print (e)"
   ]
  },
  {
   "cell_type": "markdown",
   "metadata": {},
   "source": [
    "입력 오류를 예외 처리"
   ]
  },
  {
   "cell_type": "code",
   "execution_count": null,
   "metadata": {},
   "outputs": [],
   "source": [
    "while True:\n",
    "    try:\n",
    "        n = input(\"숫자를 입력하시오 :  \")\n",
    "        n = int(n)\n",
    "        break\n",
    "    except ValueError:\n",
    "        print(\"정수가 아닙니다. 다시 입력하시오. \")\n",
    "print(\"정수 입력이 성공하였습니다!\")"
   ]
  },
  {
   "cell_type": "markdown",
   "metadata": {},
   "source": [
    "파일 열기에서 예외 처리"
   ]
  },
  {
   "cell_type": "code",
   "execution_count": null,
   "metadata": {},
   "outputs": [],
   "source": [
    "try:\n",
    "\tfname = input(\"파일 이름을 입력하세요: \")\n",
    "\tinfile = open(fname, \"r\")\n",
    "except IOError:\n",
    "\tprint(\"파일 \" + fname + \"을 발견할 수 없습니다.\")"
   ]
  },
  {
   "cell_type": "markdown",
   "metadata": {},
   "source": [
    "p.365 Lab. 파일 암호화"
   ]
  },
  {
   "cell_type": "code",
   "execution_count": null,
   "metadata": {},
   "outputs": [],
   "source": [
    "key = 'abcdefghijklmnopqrstuvwxyz'\n",
    "\n",
    "# 평문을 받아서 암호화하고 암호문을 반환한다. \n",
    "def encrypt(n, plaintext):\n",
    "    result = ''\n",
    "    for l in plaintext.lower():\n",
    "        try:\n",
    "            i = (key.index(l) + n) % 26\n",
    "            result += key[i]\n",
    "        except ValueError:\n",
    "            result += l\n",
    "\n",
    "    return result.lower()\n",
    "\n",
    "f = open(\"test.txt\", \"r\")\n",
    "s = f.read()\n",
    "s = s.rstrip()\n",
    "\n",
    "encrypted = encrypt(3, s)\t\t# 3은 이동거리이다. \n",
    "print ('평문: ' ,  s)\n",
    "print ('암호문: ',  encrypted)\n",
    "f.close()"
   ]
  },
  {
   "cell_type": "markdown",
   "metadata": {},
   "source": [
    "p.367 Mini Project 파일 압축"
   ]
  },
  {
   "cell_type": "code",
   "execution_count": null,
   "metadata": {},
   "outputs": [],
   "source": [
    "import zipfile\n",
    "         \n",
    "choice = input(\"어떤 작업을 하겠습니까?(1-압축 또는 2-해제): \")\n",
    "if choice == \"1\":\n",
    "\tfname = input(\"압축할 파일 이름을 입력하시오: \")\n",
    "\tobj = zipfile.ZipFile('test.zip', 'w')\t# 파일 압축\n",
    "\tobj.write(fname)\n",
    "\tobj.close()\n",
    "elif choice == \"2\":\n",
    "\tfname = input(\"압축을 풀 파일 이름을 입력하시오: \")\t# 압축 풀기\n",
    "\tobj = zipfile.ZipFile(fname, 'r')\n",
    "\tobj.extract(\"test.txt\")\n",
    "\tobj.close()"
   ]
  },
  {
   "cell_type": "markdown",
   "metadata": {},
   "source": [
    "p.370 연습문제"
   ]
  },
  {
   "cell_type": "markdown",
   "metadata": {},
   "source": [
    "p.372 Programming"
   ]
  },
  {
   "cell_type": "code",
   "execution_count": 20,
   "metadata": {},
   "outputs": [
    {
     "name": "stdout",
     "output_type": "stream",
     "text": [
      "커피 10\n",
      "생수 20\n",
      "라떼 30\n",
      "dd\n",
      "\n"
     ]
    }
   ],
   "source": [
    "# 1. 하나의 문자열로 읽기\n",
    "\n",
    "f = open(\".\\\\python-master\\\\src\\\\ttt.txt\", \"r\", encoding=\"utf-8\")\n",
    "x = f.read()\n",
    "print(x)\n",
    "f.close()"
   ]
  },
  {
   "cell_type": "code",
   "execution_count": 22,
   "metadata": {},
   "outputs": [
    {
     "name": "stdout",
     "output_type": "stream",
     "text": [
      "커피 10\n",
      "\n",
      "생수 20\n",
      "\n",
      "라떼 30\n",
      "\n"
     ]
    }
   ],
   "source": [
    "# 2. 처음 3줄 읽는거\n",
    "\n",
    "f = open(\".\\\\python-master\\\\src\\\\ttt.txt\", \"r\", encoding=\"utf-8\")\n",
    "for i in range(3) :\n",
    "    x = f.readline()\n",
    "    print(x)\n",
    "f.close()"
   ]
  },
  {
   "cell_type": "code",
   "execution_count": 49,
   "metadata": {},
   "outputs": [
    {
     "name": "stdout",
     "output_type": "stream",
     "text": [
      "['커피 10\\n', '생수 20\\n', '라떼떼뗑ㅇㅇㅇ 30\\n', 'dd\\n']\n",
      "['커피', '10', '생수', '20', '라떼떼뗑ㅇㅇㅇ', '30', 'dd']\n",
      "7\n",
      "라떼떼뗑ㅇㅇㅇ\n"
     ]
    }
   ],
   "source": [
    "# 3. 가장 긴 단어 찾기\n",
    "z = []\n",
    "r = []\n",
    "f = open(\".\\\\python-master\\\\src\\\\ttt.txt\", \"r\", encoding=\"utf-8\")\n",
    "x = f.readlines()\n",
    "print(x)\n",
    "for i in x :\n",
    "    i = i.strip()\n",
    "    z.append(i)\n",
    "\n",
    "for i in z :\n",
    "    y = i.split()\n",
    "    r += y\n",
    "print(r)\n",
    "\n",
    "smax = 0\n",
    "s = \"\"\n",
    "for i in r :\n",
    "    if len(i) > smax :\n",
    "        smax = len(i)\n",
    "        s = i\n",
    "print(smax)\n",
    "print(s)\n",
    "    \n",
    "f.close()"
   ]
  },
  {
   "cell_type": "code",
   "execution_count": 57,
   "metadata": {},
   "outputs": [
    {
     "name": "stdout",
     "output_type": "stream",
     "text": [
      "라떼떼뗑ㅇㅇㅇ 30\n",
      "\n"
     ]
    }
   ],
   "source": [
    "# 파일에서 임의의 행을 읽는 프로그램을 작성\n",
    "\n",
    "f = open(\".\\\\python-master\\\\src\\\\ttt.txt\", \"r\", encoding=\"utf-8\")\n",
    "x = f.readlines()\n",
    "y = int(input(\"원하는 행을 입력\"))\n",
    "print(x[y-1])\n",
    "f.close()"
   ]
  },
  {
   "cell_type": "code",
   "execution_count": null,
   "metadata": {},
   "outputs": [],
   "source": [
    "import os\n",
    "print(os.getcwd()) # current woring directory"
   ]
  },
  {
   "cell_type": "code",
   "execution_count": 50,
   "metadata": {},
   "outputs": [],
   "source": [
    "for i in range(98, 124) : \n",
    "    x = str(chr(i) + \".txt\")\n",
    "\n",
    "    f = open(f\"..\\\\예외\\\\{x}\", \"w\")\n",
    "    f.write(\"test...\")\n",
    "    f.close()"
   ]
  },
  {
   "cell_type": "code",
   "execution_count": 81,
   "metadata": {},
   "outputs": [],
   "source": [
    "#number.txt 를 읽어서 5개 줄 단위로 구분선(-----)이 추가된 randomnumbr.txt 만들기\n",
    "\n",
    "f = open(f\"..\\\\예외\\\\number.txt\", \"r\")\n",
    "\n",
    "x = f.readlines()\n",
    "\n",
    "y = open(f\"..\\\\예외\\\\randomnumber.txt\", \"w\")\n",
    "\n",
    "for i, line in enumerate(x, 1) :\n",
    "    y.write(line)\n",
    "    if i % 5 == 0  :\n",
    "        y.write(\"---------------------------------------------\\n\")\n",
    "    \n",
    "f.close()\n",
    "y.close()"
   ]
  },
  {
   "cell_type": "code",
   "execution_count": null,
   "metadata": {},
   "outputs": [],
   "source": [
    "# 다른 방법\n",
    "f = open(f\"..\\\\예외\\\\number.txt\", \"r\")\n",
    "\n",
    "x = f.readlines()\n",
    "\n",
    "y = open(f\"..\\\\예외\\\\randomnumber.txt\", \"w\")\n",
    "\n",
    "cnt = 0\n",
    "for i in x :\n",
    "    y.write(i)\n",
    "    cnt += 1\n",
    "    if cnt % 5 == 0 :\n",
    "        y.write(\"------------\\n\")\n",
    "        \n",
    "f.close()\n",
    "y.close()"
   ]
  },
  {
   "cell_type": "code",
   "execution_count": 76,
   "metadata": {},
   "outputs": [],
   "source": [
    "import random\n",
    "\n",
    "f = open(\"..\\\\예외\\\\number.txt\", \"w\")\n",
    "\n",
    "for i in range(18):\n",
    "    x = random.randint(1, 100)\n",
    "    f.write(str(x) + \"\\n\")\n",
    "\n",
    "f.close()\n",
    "\n"
   ]
  },
  {
   "cell_type": "code",
   "execution_count": 134,
   "metadata": {},
   "outputs": [
    {
     "name": "stdout",
     "output_type": "stream",
     "text": [
      "['99.1\\n', '88.2\\n', '67.7\\n', '96.9']\n",
      "99.1\n",
      "187.3\n",
      "255.0\n",
      "351.9\n",
      "87.975\n"
     ]
    }
   ],
   "source": [
    "z = 0\n",
    "f = open(f\"..\\\\예외\\\\scores.txt\", \"r\", encoding=\"utf-8\")\n",
    "\n",
    "x = f.readlines()\n",
    "\n",
    "for i in x:\n",
    "    i = i.strip()\n",
    "    z += float(i)\n",
    "q = z / len(x)\n",
    "\n",
    "f.close()\n",
    "\n",
    "fr = open(f\"..\\\\예외\\\\scores.txt\", \"a\", encoding=\"utf-8\")\n",
    "fr.write(f\"\\n평균값 : {str(q)}\" + \"\\n\")\n",
    "fr.close()\n"
   ]
  },
  {
   "cell_type": "code",
   "execution_count": null,
   "metadata": {},
   "outputs": [],
   "source": [
    "f = open(\"input.txt\", \"r\")\n",
    "a = f.read()\n",
    "\n",
    "print(a)\n",
    "for i in a :\n",
    "    print(i)"
   ]
  },
  {
   "cell_type": "code",
   "execution_count": 53,
   "metadata": {},
   "outputs": [
    {
     "name": "stdout",
     "output_type": "stream",
     "text": [
      "['10.28', '20도', '흐림', '10.29', '21도', '맑음', '10.30', '22도', '맑음', '10.31', '22도', '맑음']\n"
     ]
    }
   ],
   "source": [
    "# 퀴즈\n",
    "# data.txt 파일을 읽어서 일기예보를 요약한 내용을 한 줄 추가하기\n",
    "# 요약 결과: 흐림 - 1, 맑음 - 3\n",
    "url = \"D:\\\\1학년 2학기\\\\qqq\\\\data.txt\"\n",
    "\n",
    "f = open(f\"{url}\", \"r\", encoding=\"utf-8\")\n",
    "\n",
    "weatherSum = 0\n",
    "weatherSum2 = 0\n",
    "z = []\n",
    "r = []\n",
    "\n",
    "x = f.readlines()\n",
    "\n",
    "for i in x :\n",
    "    i = i.strip()\n",
    "    z.append(i)\n",
    "\n",
    "for i in z :\n",
    "    y = i.split()\n",
    "    r += y\n",
    "print(r)\n",
    "for item in r:\n",
    "    if item in '흐림':\n",
    "        weatherSum += 1\n",
    "    elif item in '맑음':\n",
    "        weatherSum2 += 1\n",
    "\n",
    "f.close()\n",
    "\n",
    "fr = open(f\"{url}\", \"a\", encoding=\"utf-8\")\n",
    "fr.write(f\"\\n요약 결과: 흐림 - {weatherSum}, 맑음 - {weatherSum2}\\n\")\n",
    "\n",
    "fr.close()"
   ]
  },
  {
   "cell_type": "code",
   "execution_count": 58,
   "metadata": {},
   "outputs": [],
   "source": [
    "url = \"D:\\\\1학년 2학기\\\\qqq\\\\data.txt\"\n",
    "weatherSum = 0\n",
    "weatherSum2 = 0\n",
    "\n",
    "f = open(f\"{url}\", \"r\", encoding=\"utf-8\")\n",
    "x = f.readlines()\n",
    "\n",
    "for i in x :\n",
    "    if '흐림' in i :\n",
    "        weatherSum += 1\n",
    "    elif '맑음' in i :\n",
    "        weatherSum2 += 1\n",
    "\n",
    "fr = open(f\"{url}\", \"a\", encoding=\"utf-8\")\n",
    "fr.write(f\"\\n요약 결과: 흐림 - {weatherSum}, 맑음 - {weatherSum2}\\n\")\n",
    "fr.close()\n"
   ]
  },
  {
   "cell_type": "code",
   "execution_count": 64,
   "metadata": {},
   "outputs": [
    {
     "name": "stdout",
     "output_type": "stream",
     "text": [
      "6\n"
     ]
    }
   ],
   "source": [
    "a = input()\n",
    "b = a.split()\n",
    "\n",
    "print(len(b))"
   ]
  },
  {
   "cell_type": "code",
   "execution_count": 67,
   "metadata": {},
   "outputs": [
    {
     "ename": "NameError",
     "evalue": "name 'EOF' is not defined",
     "output_type": "error",
     "traceback": [
      "\u001b[1;31m---------------------------------------------------------------------------\u001b[0m",
      "\u001b[1;31mNameError\u001b[0m                                 Traceback (most recent call last)",
      "\u001b[1;32md:\\1학년 2학기\\파이썬 응용_조정현 교수님\\python-master\\src\\10장_파일 입출력과 예외처리.ipynb 셀 94\u001b[0m line \u001b[0;36m1\n\u001b[1;32m----> <a href='vscode-notebook-cell:/d%3A/1%ED%95%99%EB%85%84%202%ED%95%99%EA%B8%B0/%ED%8C%8C%EC%9D%B4%EC%8D%AC%20%EC%9D%91%EC%9A%A9_%EC%A1%B0%EC%A0%95%ED%98%84%20%EA%B5%90%EC%88%98%EB%8B%98/python-master/src/10%EC%9E%A5_%ED%8C%8C%EC%9D%BC%20%EC%9E%85%EC%B6%9C%EB%A0%A5%EA%B3%BC%20%EC%98%88%EC%99%B8%EC%B2%98%EB%A6%AC.ipynb#Y163sZmlsZQ%3D%3D?line=0'>1</a>\u001b[0m \u001b[39mfor\u001b[39;00m i \u001b[39min\u001b[39;00m \u001b[39mrange\u001b[39m(EOF) :\n\u001b[0;32m      <a href='vscode-notebook-cell:/d%3A/1%ED%95%99%EB%85%84%202%ED%95%99%EA%B8%B0/%ED%8C%8C%EC%9D%B4%EC%8D%AC%20%EC%9D%91%EC%9A%A9_%EC%A1%B0%EC%A0%95%ED%98%84%20%EA%B5%90%EC%88%98%EB%8B%98/python-master/src/10%EC%9E%A5_%ED%8C%8C%EC%9D%BC%20%EC%9E%85%EC%B6%9C%EB%A0%A5%EA%B3%BC%20%EC%98%88%EC%99%B8%EC%B2%98%EB%A6%AC.ipynb#Y163sZmlsZQ%3D%3D?line=1'>2</a>\u001b[0m     a \u001b[39m=\u001b[39m \u001b[39minput\u001b[39m()\n\u001b[0;32m      <a href='vscode-notebook-cell:/d%3A/1%ED%95%99%EB%85%84%202%ED%95%99%EA%B8%B0/%ED%8C%8C%EC%9D%B4%EC%8D%AC%20%EC%9D%91%EC%9A%A9_%EC%A1%B0%EC%A0%95%ED%98%84%20%EA%B5%90%EC%88%98%EB%8B%98/python-master/src/10%EC%9E%A5_%ED%8C%8C%EC%9D%BC%20%EC%9E%85%EC%B6%9C%EB%A0%A5%EA%B3%BC%20%EC%98%88%EC%99%B8%EC%B2%98%EB%A6%AC.ipynb#Y163sZmlsZQ%3D%3D?line=2'>3</a>\u001b[0m     \u001b[39mprint\u001b[39m(a)\n",
      "\u001b[1;31mNameError\u001b[0m: name 'EOF' is not defined"
     ]
    }
   ],
   "source": [
    "for i in range(EOF) :\n",
    "    a = input()\n",
    "    print(a)"
   ]
  }
 ],
 "metadata": {
  "kernelspec": {
   "display_name": "Python 3",
   "language": "python",
   "name": "python3"
  },
  "language_info": {
   "codemirror_mode": {
    "name": "ipython",
    "version": 3
   },
   "file_extension": ".py",
   "mimetype": "text/x-python",
   "name": "python",
   "nbconvert_exporter": "python",
   "pygments_lexer": "ipython3",
   "version": "3.11.6"
  },
  "orig_nbformat": 4
 },
 "nbformat": 4,
 "nbformat_minor": 2
}
